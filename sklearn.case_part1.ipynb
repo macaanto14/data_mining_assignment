{
 "cells": [
  {
   "cell_type": "markdown",
   "metadata": {},
   "source": [
    "# Sklearn"
   ]
  },
  {
   "cell_type": "markdown",
   "metadata": {},
   "source": [
    "## Bike Sharing Demand\n",
    "Задача на kaggle: https://www.kaggle.com/c/bike-sharing-demand\n",
    "\n",
    "По историческим данным о прокате велосипедов и погодным условиям необходимо оценить спрос на прокат велосипедов.\n",
    "\n",
    "В исходной постановке задачи доступно 11 признаков: https://www.kaggle.com/c/prudential-life-insurance-assessment/data\n",
    "\n",
    "В наборе признаков присутсвуют вещественные, категориальные, и бинарные данные. \n",
    "\n",
    "Для демонстрации используется обучающая выборка из исходных данных train.csv."
   ]
  },
  {
   "cell_type": "markdown",
   "metadata": {},
   "source": [
    "### Библиотеки"
   ]
  },
  {
   "cell_type": "code",
   "execution_count": 1,
   "metadata": {
    "collapsed": true
   },
   "outputs": [],
   "source": [
    "from sklearn import cross_validation, grid_search, linear_model, metrics\n",
    "\n",
    "import numpy as np\n",
    "import pandas as pd"
   ]
  },
  {
   "cell_type": "code",
   "execution_count": 2,
   "metadata": {
    "collapsed": false
   },
   "outputs": [
    {
     "name": "stdout",
     "output_type": "stream",
     "text": [
      "Populating the interactive namespace from numpy and matplotlib\n"
     ]
    },
    {
     "name": "stderr",
     "output_type": "stream",
     "text": [
      "/Users/emily/anaconda/lib/python2.7/site-packages/matplotlib/font_manager.py:273: UserWarning: Matplotlib is building the font cache using fc-list. This may take a moment.\n",
      "  warnings.warn('Matplotlib is building the font cache using fc-list. This may take a moment.')\n"
     ]
    }
   ],
   "source": [
    "%pylab inline"
   ]
  },
  {
   "cell_type": "markdown",
   "metadata": {},
   "source": [
    "### Загрузка данных"
   ]
  },
  {
   "cell_type": "code",
   "execution_count": 8,
   "metadata": {
    "collapsed": false
   },
   "outputs": [
    {
     "data": {
      "text/html": [
       "<div>\n",
       "<table border=\"1\" class=\"dataframe\">\n",
       "  <thead>\n",
       "    <tr style=\"text-align: right;\">\n",
       "      <th></th>\n",
       "      <th>date</th>\n",
       "      <th>test_smape1</th>\n",
       "      <th>test_smape2</th>\n",
       "    </tr>\n",
       "  </thead>\n",
       "  <tbody>\n",
       "    <tr>\n",
       "      <th>0</th>\n",
       "      <td>20160806</td>\n",
       "      <td>0.322690</td>\n",
       "      <td>0.645380</td>\n",
       "    </tr>\n",
       "    <tr>\n",
       "      <th>1</th>\n",
       "      <td>20160807</td>\n",
       "      <td>0.304917</td>\n",
       "      <td>0.609834</td>\n",
       "    </tr>\n",
       "    <tr>\n",
       "      <th>2</th>\n",
       "      <td>20160813</td>\n",
       "      <td>0.308416</td>\n",
       "      <td>0.616833</td>\n",
       "    </tr>\n",
       "    <tr>\n",
       "      <th>3</th>\n",
       "      <td>20160814</td>\n",
       "      <td>0.294624</td>\n",
       "      <td>0.589248</td>\n",
       "    </tr>\n",
       "    <tr>\n",
       "      <th>4</th>\n",
       "      <td>20160820</td>\n",
       "      <td>0.299598</td>\n",
       "      <td>0.599196</td>\n",
       "    </tr>\n",
       "    <tr>\n",
       "      <th>5</th>\n",
       "      <td>20160821</td>\n",
       "      <td>0.378299</td>\n",
       "      <td>0.756598</td>\n",
       "    </tr>\n",
       "    <tr>\n",
       "      <th>6</th>\n",
       "      <td>20160827</td>\n",
       "      <td>0.326613</td>\n",
       "      <td>0.653226</td>\n",
       "    </tr>\n",
       "    <tr>\n",
       "      <th>7</th>\n",
       "      <td>20160828</td>\n",
       "      <td>0.328751</td>\n",
       "      <td>0.657502</td>\n",
       "    </tr>\n",
       "  </tbody>\n",
       "</table>\n",
       "</div>"
      ],
      "text/plain": [
       "       date  test_smape1  test_smape2\n",
       "0  20160806     0.322690     0.645380\n",
       "1  20160807     0.304917     0.609834\n",
       "2  20160813     0.308416     0.616833\n",
       "3  20160814     0.294624     0.589248\n",
       "4  20160820     0.299598     0.599196\n",
       "5  20160821     0.378299     0.756598\n",
       "6  20160827     0.326613     0.653226\n",
       "7  20160828     0.328751     0.657502"
      ]
     },
     "execution_count": 8,
     "metadata": {},
     "output_type": "execute_result"
    }
   ],
   "source": [
    "data = pd.ExcelFile('excell_file.xlsx')\n",
    "data.parse(0, index_col=None, na_values='NA')"
   ]
  },
  {
   "cell_type": "code",
   "execution_count": 9,
   "metadata": {
    "collapsed": true
   },
   "outputs": [],
   "source": [
    "raw_data = pd.read_csv('bike_sharing_demand.csv', header = 0, sep = ',')"
   ]
  },
  {
   "cell_type": "code",
   "execution_count": 10,
   "metadata": {
    "collapsed": false
   },
   "outputs": [
    {
     "data": {
      "text/html": [
       "<div>\n",
       "<table border=\"1\" class=\"dataframe\">\n",
       "  <thead>\n",
       "    <tr style=\"text-align: right;\">\n",
       "      <th></th>\n",
       "      <th>datetime</th>\n",
       "      <th>season</th>\n",
       "      <th>holiday</th>\n",
       "      <th>workingday</th>\n",
       "      <th>weather</th>\n",
       "      <th>temp</th>\n",
       "      <th>atemp</th>\n",
       "      <th>humidity</th>\n",
       "      <th>windspeed</th>\n",
       "      <th>casual</th>\n",
       "      <th>registered</th>\n",
       "      <th>count</th>\n",
       "    </tr>\n",
       "  </thead>\n",
       "  <tbody>\n",
       "    <tr>\n",
       "      <th>0</th>\n",
       "      <td>2011-01-01 00:00:00</td>\n",
       "      <td>1</td>\n",
       "      <td>0</td>\n",
       "      <td>0</td>\n",
       "      <td>1</td>\n",
       "      <td>9.84</td>\n",
       "      <td>14.395</td>\n",
       "      <td>81</td>\n",
       "      <td>0</td>\n",
       "      <td>3</td>\n",
       "      <td>13</td>\n",
       "      <td>16</td>\n",
       "    </tr>\n",
       "    <tr>\n",
       "      <th>1</th>\n",
       "      <td>2011-01-01 01:00:00</td>\n",
       "      <td>1</td>\n",
       "      <td>0</td>\n",
       "      <td>0</td>\n",
       "      <td>1</td>\n",
       "      <td>9.02</td>\n",
       "      <td>13.635</td>\n",
       "      <td>80</td>\n",
       "      <td>0</td>\n",
       "      <td>8</td>\n",
       "      <td>32</td>\n",
       "      <td>40</td>\n",
       "    </tr>\n",
       "    <tr>\n",
       "      <th>2</th>\n",
       "      <td>2011-01-01 02:00:00</td>\n",
       "      <td>1</td>\n",
       "      <td>0</td>\n",
       "      <td>0</td>\n",
       "      <td>1</td>\n",
       "      <td>9.02</td>\n",
       "      <td>13.635</td>\n",
       "      <td>80</td>\n",
       "      <td>0</td>\n",
       "      <td>5</td>\n",
       "      <td>27</td>\n",
       "      <td>32</td>\n",
       "    </tr>\n",
       "    <tr>\n",
       "      <th>3</th>\n",
       "      <td>2011-01-01 03:00:00</td>\n",
       "      <td>1</td>\n",
       "      <td>0</td>\n",
       "      <td>0</td>\n",
       "      <td>1</td>\n",
       "      <td>9.84</td>\n",
       "      <td>14.395</td>\n",
       "      <td>75</td>\n",
       "      <td>0</td>\n",
       "      <td>3</td>\n",
       "      <td>10</td>\n",
       "      <td>13</td>\n",
       "    </tr>\n",
       "    <tr>\n",
       "      <th>4</th>\n",
       "      <td>2011-01-01 04:00:00</td>\n",
       "      <td>1</td>\n",
       "      <td>0</td>\n",
       "      <td>0</td>\n",
       "      <td>1</td>\n",
       "      <td>9.84</td>\n",
       "      <td>14.395</td>\n",
       "      <td>75</td>\n",
       "      <td>0</td>\n",
       "      <td>0</td>\n",
       "      <td>1</td>\n",
       "      <td>1</td>\n",
       "    </tr>\n",
       "  </tbody>\n",
       "</table>\n",
       "</div>"
      ],
      "text/plain": [
       "              datetime  season  holiday  workingday  weather  temp   atemp  \\\n",
       "0  2011-01-01 00:00:00       1        0           0        1  9.84  14.395   \n",
       "1  2011-01-01 01:00:00       1        0           0        1  9.02  13.635   \n",
       "2  2011-01-01 02:00:00       1        0           0        1  9.02  13.635   \n",
       "3  2011-01-01 03:00:00       1        0           0        1  9.84  14.395   \n",
       "4  2011-01-01 04:00:00       1        0           0        1  9.84  14.395   \n",
       "\n",
       "   humidity  windspeed  casual  registered  count  \n",
       "0        81          0       3          13     16  \n",
       "1        80          0       8          32     40  \n",
       "2        80          0       5          27     32  \n",
       "3        75          0       3          10     13  \n",
       "4        75          0       0           1      1  "
      ]
     },
     "execution_count": 10,
     "metadata": {},
     "output_type": "execute_result"
    }
   ],
   "source": [
    "raw_data.head()"
   ]
  },
  {
   "cell_type": "markdown",
   "metadata": {},
   "source": [
    "***datetime*** - hourly date + timestamp  \n",
    "\n",
    "***season*** -  1 = spring, 2 = summer, 3 = fall, 4 = winter \n",
    "\n",
    "***holiday*** - whether the day is considered a holiday\n",
    "\n",
    "***workingday*** - whether the day is neither a weekend nor holiday\n",
    "\n",
    "***weather*** - 1: Clear, Few clouds, Partly cloudy, Partly cloudy\n",
    "2: Mist + Cloudy, Mist + Broken clouds, Mist + Few clouds, Mist\n",
    "3: Light Snow, Light Rain + Thunderstorm + Scattered clouds, Light Rain + Scattered clouds\n",
    "4: Heavy Rain + Ice Pallets + Thunderstorm + Mist, Snow + Fog \n",
    "    \n",
    "***temp*** - temperature in Celsius\n",
    "\n",
    "***atemp*** - \"feels like\" temperature in Celsius\n",
    "\n",
    "***humidity*** - relative humidity\n",
    "\n",
    "***windspeed*** - wind speed\n",
    "\n",
    "***casual*** - number of non-registered user rentals initiated\n",
    "\n",
    "***registered*** - number of registered user rentals initiated\n",
    "\n",
    "***count*** - number of total rentals"
   ]
  },
  {
   "cell_type": "code",
   "execution_count": 11,
   "metadata": {
    "collapsed": false
   },
   "outputs": [
    {
     "name": "stdout",
     "output_type": "stream",
     "text": [
      "(10886, 12)\n"
     ]
    }
   ],
   "source": [
    "print raw_data.shape"
   ]
  },
  {
   "cell_type": "code",
   "execution_count": 18,
   "metadata": {
    "collapsed": false
   },
   "outputs": [],
   "source": [
    "raw_data.isnull().values.any()"
   ]
  },
  {
   "cell_type": "markdown",
   "metadata": {},
   "source": [
    "### Предобработка данных"
   ]
  },
  {
   "cell_type": "markdown",
   "metadata": {},
   "source": [
    "#### Типы признаков"
   ]
  },
  {
   "cell_type": "code",
   "execution_count": 21,
   "metadata": {
    "collapsed": false
   },
   "outputs": [
    {
     "name": "stdout",
     "output_type": "stream",
     "text": [
      "<class 'pandas.core.frame.DataFrame'>\n",
      "Int64Index: 10886 entries, 0 to 10885\n",
      "Data columns (total 12 columns):\n",
      "datetime      10886 non-null datetime64[ns]\n",
      "season        10886 non-null int64\n",
      "holiday       10886 non-null int64\n",
      "workingday    10886 non-null int64\n",
      "weather       10886 non-null int64\n",
      "temp          10886 non-null float64\n",
      "atemp         10886 non-null float64\n",
      "humidity      10886 non-null int64\n",
      "windspeed     10886 non-null float64\n",
      "casual        10886 non-null int64\n",
      "registered    10886 non-null int64\n",
      "count         10886 non-null int64\n",
      "dtypes: datetime64[ns](1), float64(3), int64(8)\n",
      "memory usage: 1.1 MB\n"
     ]
    }
   ],
   "source": [
    "raw_data.info()"
   ]
  },
  {
   "cell_type": "code",
   "execution_count": 20,
   "metadata": {
    "collapsed": false
   },
   "outputs": [],
   "source": [
    "raw_data.datetime = raw_data.datetime.apply(pd.to_datetime)"
   ]
  },
  {
   "cell_type": "code",
   "execution_count": 22,
   "metadata": {
    "collapsed": false
   },
   "outputs": [
    {
     "data": {
      "text/html": [
       "<div>\n",
       "<table border=\"1\" class=\"dataframe\">\n",
       "  <thead>\n",
       "    <tr style=\"text-align: right;\">\n",
       "      <th></th>\n",
       "      <th>datetime</th>\n",
       "      <th>season</th>\n",
       "      <th>holiday</th>\n",
       "      <th>workingday</th>\n",
       "      <th>weather</th>\n",
       "      <th>temp</th>\n",
       "      <th>atemp</th>\n",
       "      <th>humidity</th>\n",
       "      <th>windspeed</th>\n",
       "      <th>casual</th>\n",
       "      <th>registered</th>\n",
       "      <th>count</th>\n",
       "    </tr>\n",
       "  </thead>\n",
       "  <tbody>\n",
       "    <tr>\n",
       "      <th>0</th>\n",
       "      <td>2011-01-01 00:00:00</td>\n",
       "      <td>1</td>\n",
       "      <td>0</td>\n",
       "      <td>0</td>\n",
       "      <td>1</td>\n",
       "      <td>9.84</td>\n",
       "      <td>14.395</td>\n",
       "      <td>81</td>\n",
       "      <td>0</td>\n",
       "      <td>3</td>\n",
       "      <td>13</td>\n",
       "      <td>16</td>\n",
       "    </tr>\n",
       "    <tr>\n",
       "      <th>1</th>\n",
       "      <td>2011-01-01 01:00:00</td>\n",
       "      <td>1</td>\n",
       "      <td>0</td>\n",
       "      <td>0</td>\n",
       "      <td>1</td>\n",
       "      <td>9.02</td>\n",
       "      <td>13.635</td>\n",
       "      <td>80</td>\n",
       "      <td>0</td>\n",
       "      <td>8</td>\n",
       "      <td>32</td>\n",
       "      <td>40</td>\n",
       "    </tr>\n",
       "    <tr>\n",
       "      <th>2</th>\n",
       "      <td>2011-01-01 02:00:00</td>\n",
       "      <td>1</td>\n",
       "      <td>0</td>\n",
       "      <td>0</td>\n",
       "      <td>1</td>\n",
       "      <td>9.02</td>\n",
       "      <td>13.635</td>\n",
       "      <td>80</td>\n",
       "      <td>0</td>\n",
       "      <td>5</td>\n",
       "      <td>27</td>\n",
       "      <td>32</td>\n",
       "    </tr>\n",
       "    <tr>\n",
       "      <th>3</th>\n",
       "      <td>2011-01-01 03:00:00</td>\n",
       "      <td>1</td>\n",
       "      <td>0</td>\n",
       "      <td>0</td>\n",
       "      <td>1</td>\n",
       "      <td>9.84</td>\n",
       "      <td>14.395</td>\n",
       "      <td>75</td>\n",
       "      <td>0</td>\n",
       "      <td>3</td>\n",
       "      <td>10</td>\n",
       "      <td>13</td>\n",
       "    </tr>\n",
       "    <tr>\n",
       "      <th>4</th>\n",
       "      <td>2011-01-01 04:00:00</td>\n",
       "      <td>1</td>\n",
       "      <td>0</td>\n",
       "      <td>0</td>\n",
       "      <td>1</td>\n",
       "      <td>9.84</td>\n",
       "      <td>14.395</td>\n",
       "      <td>75</td>\n",
       "      <td>0</td>\n",
       "      <td>0</td>\n",
       "      <td>1</td>\n",
       "      <td>1</td>\n",
       "    </tr>\n",
       "  </tbody>\n",
       "</table>\n",
       "</div>"
      ],
      "text/plain": [
       "             datetime  season  holiday  workingday  weather  temp   atemp  \\\n",
       "0 2011-01-01 00:00:00       1        0           0        1  9.84  14.395   \n",
       "1 2011-01-01 01:00:00       1        0           0        1  9.02  13.635   \n",
       "2 2011-01-01 02:00:00       1        0           0        1  9.02  13.635   \n",
       "3 2011-01-01 03:00:00       1        0           0        1  9.84  14.395   \n",
       "4 2011-01-01 04:00:00       1        0           0        1  9.84  14.395   \n",
       "\n",
       "   humidity  windspeed  casual  registered  count  \n",
       "0        81          0       3          13     16  \n",
       "1        80          0       8          32     40  \n",
       "2        80          0       5          27     32  \n",
       "3        75          0       3          10     13  \n",
       "4        75          0       0           1      1  "
      ]
     },
     "execution_count": 22,
     "metadata": {},
     "output_type": "execute_result"
    }
   ],
   "source": [
    "raw_data.head()"
   ]
  },
  {
   "cell_type": "code",
   "execution_count": 23,
   "metadata": {
    "collapsed": true
   },
   "outputs": [],
   "source": [
    "from datetime import datetime"
   ]
  },
  {
   "cell_type": "code",
   "execution_count": 24,
   "metadata": {
    "collapsed": true
   },
   "outputs": [],
   "source": [
    "a = datetime(2016, 11, 17)"
   ]
  },
  {
   "cell_type": "code",
   "execution_count": 29,
   "metadata": {
    "collapsed": false
   },
   "outputs": [
    {
     "data": {
      "text/plain": [
       "3"
      ]
     },
     "execution_count": 29,
     "metadata": {},
     "output_type": "execute_result"
    }
   ],
   "source": [
    "a.weekday()"
   ]
  },
  {
   "cell_type": "code",
   "execution_count": 30,
   "metadata": {
    "collapsed": true
   },
   "outputs": [],
   "source": [
    "raw_data['month'] = raw_data.datetime.apply(lambda x : x.month)\n",
    "raw_data['hour'] = raw_data.datetime.apply(lambda x : x.hour)\n",
    "raw_data['week_day'] = raw_data.datetime.apply(lambda x : x.weekday() + 1)"
   ]
  },
  {
   "cell_type": "code",
   "execution_count": 35,
   "metadata": {
    "collapsed": true
   },
   "outputs": [],
   "source": [
    "raw_data['year'] = raw_data.datetime.apply(lambda x : x.year)"
   ]
  },
  {
   "cell_type": "code",
   "execution_count": 31,
   "metadata": {
    "collapsed": false
   },
   "outputs": [
    {
     "data": {
      "text/html": [
       "<div>\n",
       "<table border=\"1\" class=\"dataframe\">\n",
       "  <thead>\n",
       "    <tr style=\"text-align: right;\">\n",
       "      <th></th>\n",
       "      <th>datetime</th>\n",
       "      <th>season</th>\n",
       "      <th>holiday</th>\n",
       "      <th>workingday</th>\n",
       "      <th>weather</th>\n",
       "      <th>temp</th>\n",
       "      <th>atemp</th>\n",
       "      <th>humidity</th>\n",
       "      <th>windspeed</th>\n",
       "      <th>casual</th>\n",
       "      <th>registered</th>\n",
       "      <th>count</th>\n",
       "      <th>month</th>\n",
       "      <th>hour</th>\n",
       "      <th>week_day</th>\n",
       "    </tr>\n",
       "  </thead>\n",
       "  <tbody>\n",
       "    <tr>\n",
       "      <th>0</th>\n",
       "      <td>2011-01-01 00:00:00</td>\n",
       "      <td>1</td>\n",
       "      <td>0</td>\n",
       "      <td>0</td>\n",
       "      <td>1</td>\n",
       "      <td>9.84</td>\n",
       "      <td>14.395</td>\n",
       "      <td>81</td>\n",
       "      <td>0</td>\n",
       "      <td>3</td>\n",
       "      <td>13</td>\n",
       "      <td>16</td>\n",
       "      <td>1</td>\n",
       "      <td>0</td>\n",
       "      <td>6</td>\n",
       "    </tr>\n",
       "    <tr>\n",
       "      <th>1</th>\n",
       "      <td>2011-01-01 01:00:00</td>\n",
       "      <td>1</td>\n",
       "      <td>0</td>\n",
       "      <td>0</td>\n",
       "      <td>1</td>\n",
       "      <td>9.02</td>\n",
       "      <td>13.635</td>\n",
       "      <td>80</td>\n",
       "      <td>0</td>\n",
       "      <td>8</td>\n",
       "      <td>32</td>\n",
       "      <td>40</td>\n",
       "      <td>1</td>\n",
       "      <td>1</td>\n",
       "      <td>6</td>\n",
       "    </tr>\n",
       "    <tr>\n",
       "      <th>2</th>\n",
       "      <td>2011-01-01 02:00:00</td>\n",
       "      <td>1</td>\n",
       "      <td>0</td>\n",
       "      <td>0</td>\n",
       "      <td>1</td>\n",
       "      <td>9.02</td>\n",
       "      <td>13.635</td>\n",
       "      <td>80</td>\n",
       "      <td>0</td>\n",
       "      <td>5</td>\n",
       "      <td>27</td>\n",
       "      <td>32</td>\n",
       "      <td>1</td>\n",
       "      <td>2</td>\n",
       "      <td>6</td>\n",
       "    </tr>\n",
       "    <tr>\n",
       "      <th>3</th>\n",
       "      <td>2011-01-01 03:00:00</td>\n",
       "      <td>1</td>\n",
       "      <td>0</td>\n",
       "      <td>0</td>\n",
       "      <td>1</td>\n",
       "      <td>9.84</td>\n",
       "      <td>14.395</td>\n",
       "      <td>75</td>\n",
       "      <td>0</td>\n",
       "      <td>3</td>\n",
       "      <td>10</td>\n",
       "      <td>13</td>\n",
       "      <td>1</td>\n",
       "      <td>3</td>\n",
       "      <td>6</td>\n",
       "    </tr>\n",
       "    <tr>\n",
       "      <th>4</th>\n",
       "      <td>2011-01-01 04:00:00</td>\n",
       "      <td>1</td>\n",
       "      <td>0</td>\n",
       "      <td>0</td>\n",
       "      <td>1</td>\n",
       "      <td>9.84</td>\n",
       "      <td>14.395</td>\n",
       "      <td>75</td>\n",
       "      <td>0</td>\n",
       "      <td>0</td>\n",
       "      <td>1</td>\n",
       "      <td>1</td>\n",
       "      <td>1</td>\n",
       "      <td>4</td>\n",
       "      <td>6</td>\n",
       "    </tr>\n",
       "  </tbody>\n",
       "</table>\n",
       "</div>"
      ],
      "text/plain": [
       "             datetime  season  holiday  workingday  weather  temp   atemp  \\\n",
       "0 2011-01-01 00:00:00       1        0           0        1  9.84  14.395   \n",
       "1 2011-01-01 01:00:00       1        0           0        1  9.02  13.635   \n",
       "2 2011-01-01 02:00:00       1        0           0        1  9.02  13.635   \n",
       "3 2011-01-01 03:00:00       1        0           0        1  9.84  14.395   \n",
       "4 2011-01-01 04:00:00       1        0           0        1  9.84  14.395   \n",
       "\n",
       "   humidity  windspeed  casual  registered  count  month  hour  week_day  \n",
       "0        81          0       3          13     16      1     0         6  \n",
       "1        80          0       8          32     40      1     1         6  \n",
       "2        80          0       5          27     32      1     2         6  \n",
       "3        75          0       3          10     13      1     3         6  \n",
       "4        75          0       0           1      1      1     4         6  "
      ]
     },
     "execution_count": 31,
     "metadata": {},
     "output_type": "execute_result"
    }
   ],
   "source": [
    "raw_data.head()"
   ]
  },
  {
   "cell_type": "code",
   "execution_count": 33,
   "metadata": {
    "collapsed": false
   },
   "outputs": [
    {
     "name": "stdout",
     "output_type": "stream",
     "text": [
      "2011-01-01 00:00:00\n",
      "2012-12-19 23:00:00\n"
     ]
    }
   ],
   "source": [
    "print raw_data.datetime.min()\n",
    "print raw_data.datetime.max()"
   ]
  },
  {
   "cell_type": "code",
   "execution_count": 49,
   "metadata": {
    "collapsed": false
   },
   "outputs": [],
   "source": [
    "grouped = raw_data.groupby(by = ['year', 'month']).aggregate(np.sum)[['count']].reset_index()"
   ]
  },
  {
   "cell_type": "code",
   "execution_count": 54,
   "metadata": {
    "collapsed": false
   },
   "outputs": [],
   "source": [
    "grouped2 = raw_data[['year', 'month', 'count']].groupby(by = ['year', 'month']).aggregate(np.sum).reset_index()"
   ]
  },
  {
   "cell_type": "code",
   "execution_count": 62,
   "metadata": {
    "collapsed": false
   },
   "outputs": [
    {
     "data": {
      "text/html": [
       "<div>\n",
       "<table border=\"1\" class=\"dataframe\">\n",
       "  <thead>\n",
       "    <tr style=\"text-align: right;\">\n",
       "      <th></th>\n",
       "      <th>year</th>\n",
       "      <th>month</th>\n",
       "      <th>count</th>\n",
       "      <th>date</th>\n",
       "    </tr>\n",
       "  </thead>\n",
       "  <tbody>\n",
       "    <tr>\n",
       "      <th>0</th>\n",
       "      <td>2011</td>\n",
       "      <td>1</td>\n",
       "      <td>23552</td>\n",
       "      <td>2011_1</td>\n",
       "    </tr>\n",
       "    <tr>\n",
       "      <th>1</th>\n",
       "      <td>2011</td>\n",
       "      <td>2</td>\n",
       "      <td>32844</td>\n",
       "      <td>2011_2</td>\n",
       "    </tr>\n",
       "    <tr>\n",
       "      <th>2</th>\n",
       "      <td>2011</td>\n",
       "      <td>3</td>\n",
       "      <td>38735</td>\n",
       "      <td>2011_3</td>\n",
       "    </tr>\n",
       "    <tr>\n",
       "      <th>3</th>\n",
       "      <td>2011</td>\n",
       "      <td>4</td>\n",
       "      <td>50517</td>\n",
       "      <td>2011_4</td>\n",
       "    </tr>\n",
       "    <tr>\n",
       "      <th>4</th>\n",
       "      <td>2011</td>\n",
       "      <td>5</td>\n",
       "      <td>79713</td>\n",
       "      <td>2011_5</td>\n",
       "    </tr>\n",
       "  </tbody>\n",
       "</table>\n",
       "</div>"
      ],
      "text/plain": [
       "   year  month  count    date\n",
       "0  2011      1  23552  2011_1\n",
       "1  2011      2  32844  2011_2\n",
       "2  2011      3  38735  2011_3\n",
       "3  2011      4  50517  2011_4\n",
       "4  2011      5  79713  2011_5"
      ]
     },
     "execution_count": 62,
     "metadata": {},
     "output_type": "execute_result"
    }
   ],
   "source": [
    "grouped2['date'] = grouped2.apply(lambda raw : str(raw['year']) + '_' + str(raw['month']), axis = 1)\n",
    "grouped2.head()"
   ]
  },
  {
   "cell_type": "code",
   "execution_count": 66,
   "metadata": {
    "collapsed": false
   },
   "outputs": [
    {
     "data": {
      "text/plain": [
       "year      int64\n",
       "month     int64\n",
       "count     int64\n",
       "date     object\n",
       "dtype: object"
      ]
     },
     "execution_count": 66,
     "metadata": {},
     "output_type": "execute_result"
    }
   ],
   "source": [
    "grouped2.dtypes"
   ]
  },
  {
   "cell_type": "code",
   "execution_count": 91,
   "metadata": {
    "collapsed": false
   },
   "outputs": [],
   "source": [
    "tmp = grouped2[grouped2.year == 2012][['month', 'count']]"
   ]
  },
  {
   "cell_type": "code",
   "execution_count": 94,
   "metadata": {
    "collapsed": false
   },
   "outputs": [
    {
     "data": {
      "text/html": [
       "<div>\n",
       "<table border=\"1\" class=\"dataframe\">\n",
       "  <thead>\n",
       "    <tr style=\"text-align: right;\">\n",
       "      <th></th>\n",
       "      <th>month</th>\n",
       "      <th>count_2011</th>\n",
       "    </tr>\n",
       "  </thead>\n",
       "  <tbody>\n",
       "    <tr>\n",
       "      <th>0</th>\n",
       "      <td>1</td>\n",
       "      <td>23552</td>\n",
       "    </tr>\n",
       "    <tr>\n",
       "      <th>1</th>\n",
       "      <td>2</td>\n",
       "      <td>32844</td>\n",
       "    </tr>\n",
       "    <tr>\n",
       "      <th>2</th>\n",
       "      <td>3</td>\n",
       "      <td>38735</td>\n",
       "    </tr>\n",
       "    <tr>\n",
       "      <th>3</th>\n",
       "      <td>4</td>\n",
       "      <td>50517</td>\n",
       "    </tr>\n",
       "    <tr>\n",
       "      <th>4</th>\n",
       "      <td>5</td>\n",
       "      <td>79713</td>\n",
       "    </tr>\n",
       "    <tr>\n",
       "      <th>5</th>\n",
       "      <td>6</td>\n",
       "      <td>89776</td>\n",
       "    </tr>\n",
       "    <tr>\n",
       "      <th>6</th>\n",
       "      <td>7</td>\n",
       "      <td>92848</td>\n",
       "    </tr>\n",
       "    <tr>\n",
       "      <th>7</th>\n",
       "      <td>8</td>\n",
       "      <td>83296</td>\n",
       "    </tr>\n",
       "    <tr>\n",
       "      <th>8</th>\n",
       "      <td>9</td>\n",
       "      <td>79104</td>\n",
       "    </tr>\n",
       "    <tr>\n",
       "      <th>9</th>\n",
       "      <td>10</td>\n",
       "      <td>79522</td>\n",
       "    </tr>\n",
       "    <tr>\n",
       "      <th>10</th>\n",
       "      <td>11</td>\n",
       "      <td>70889</td>\n",
       "    </tr>\n",
       "    <tr>\n",
       "      <th>11</th>\n",
       "      <td>12</td>\n",
       "      <td>61183</td>\n",
       "    </tr>\n",
       "  </tbody>\n",
       "</table>\n",
       "</div>"
      ],
      "text/plain": [
       "    month  count_2011\n",
       "0       1       23552\n",
       "1       2       32844\n",
       "2       3       38735\n",
       "3       4       50517\n",
       "4       5       79713\n",
       "5       6       89776\n",
       "6       7       92848\n",
       "7       8       83296\n",
       "8       9       79104\n",
       "9      10       79522\n",
       "10     11       70889\n",
       "11     12       61183"
      ]
     },
     "execution_count": 94,
     "metadata": {},
     "output_type": "execute_result"
    }
   ],
   "source": [
    "frame = pd.DataFrame()\n",
    "frame['month'] = grouped2[grouped2.year == 2011][['month']]\n",
    "frame['count_2011'] = grouped2[grouped2.year == 2011][['count']]\n",
    "frame"
   ]
  },
  {
   "cell_type": "code",
   "execution_count": 100,
   "metadata": {
    "collapsed": false
   },
   "outputs": [],
   "source": [
    "frame = frame.merge(tmp, on = 'month')"
   ]
  },
  {
   "cell_type": "code",
   "execution_count": 102,
   "metadata": {
    "collapsed": false
   },
   "outputs": [
    {
     "data": {
      "text/html": [
       "<div>\n",
       "<table border=\"1\" class=\"dataframe\">\n",
       "  <thead>\n",
       "    <tr style=\"text-align: right;\">\n",
       "      <th></th>\n",
       "      <th>month</th>\n",
       "      <th>count_2011</th>\n",
       "      <th>count_2012</th>\n",
       "    </tr>\n",
       "  </thead>\n",
       "  <tbody>\n",
       "    <tr>\n",
       "      <th>0</th>\n",
       "      <td>1</td>\n",
       "      <td>23552</td>\n",
       "      <td>56332</td>\n",
       "    </tr>\n",
       "    <tr>\n",
       "      <th>1</th>\n",
       "      <td>2</td>\n",
       "      <td>32844</td>\n",
       "      <td>66269</td>\n",
       "    </tr>\n",
       "    <tr>\n",
       "      <th>2</th>\n",
       "      <td>3</td>\n",
       "      <td>38735</td>\n",
       "      <td>94766</td>\n",
       "    </tr>\n",
       "    <tr>\n",
       "      <th>3</th>\n",
       "      <td>4</td>\n",
       "      <td>50517</td>\n",
       "      <td>116885</td>\n",
       "    </tr>\n",
       "    <tr>\n",
       "      <th>4</th>\n",
       "      <td>5</td>\n",
       "      <td>79713</td>\n",
       "      <td>120434</td>\n",
       "    </tr>\n",
       "    <tr>\n",
       "      <th>5</th>\n",
       "      <td>6</td>\n",
       "      <td>89776</td>\n",
       "      <td>130957</td>\n",
       "    </tr>\n",
       "    <tr>\n",
       "      <th>6</th>\n",
       "      <td>7</td>\n",
       "      <td>92848</td>\n",
       "      <td>121769</td>\n",
       "    </tr>\n",
       "    <tr>\n",
       "      <th>7</th>\n",
       "      <td>8</td>\n",
       "      <td>83296</td>\n",
       "      <td>130220</td>\n",
       "    </tr>\n",
       "    <tr>\n",
       "      <th>8</th>\n",
       "      <td>9</td>\n",
       "      <td>79104</td>\n",
       "      <td>133425</td>\n",
       "    </tr>\n",
       "    <tr>\n",
       "      <th>9</th>\n",
       "      <td>10</td>\n",
       "      <td>79522</td>\n",
       "      <td>127912</td>\n",
       "    </tr>\n",
       "    <tr>\n",
       "      <th>10</th>\n",
       "      <td>11</td>\n",
       "      <td>70889</td>\n",
       "      <td>105551</td>\n",
       "    </tr>\n",
       "    <tr>\n",
       "      <th>11</th>\n",
       "      <td>12</td>\n",
       "      <td>61183</td>\n",
       "      <td>98977</td>\n",
       "    </tr>\n",
       "  </tbody>\n",
       "</table>\n",
       "</div>"
      ],
      "text/plain": [
       "    month  count_2011  count_2012\n",
       "0       1       23552       56332\n",
       "1       2       32844       66269\n",
       "2       3       38735       94766\n",
       "3       4       50517      116885\n",
       "4       5       79713      120434\n",
       "5       6       89776      130957\n",
       "6       7       92848      121769\n",
       "7       8       83296      130220\n",
       "8       9       79104      133425\n",
       "9      10       79522      127912\n",
       "10     11       70889      105551\n",
       "11     12       61183       98977"
      ]
     },
     "execution_count": 102,
     "metadata": {},
     "output_type": "execute_result"
    }
   ],
   "source": [
    "frame"
   ]
  },
  {
   "cell_type": "code",
   "execution_count": 101,
   "metadata": {
    "collapsed": false
   },
   "outputs": [],
   "source": [
    "frame.columns = ['month', 'count_2011', 'count_2012']"
   ]
  },
  {
   "cell_type": "code",
   "execution_count": 104,
   "metadata": {
    "collapsed": false
   },
   "outputs": [
    {
     "data": {
      "text/plain": [
       "<matplotlib.axes._subplots.AxesSubplot at 0x119687690>"
      ]
     },
     "execution_count": 104,
     "metadata": {},
     "output_type": "execute_result"
    },
    {
     "data": {
      "image/png": "[encoded data removed]",
      "text/plain": [
       "<matplotlib.figure.Figure at 0x11966bfd0>"
      ]
     },
     "metadata": {},
     "output_type": "display_data"
    }
   ],
   "source": [
    "frame[['count_2011', 'count_2012']].plot()"
   ]
  },
  {
   "cell_type": "code",
   "execution_count": 71,
   "metadata": {
    "collapsed": false
   },
   "outputs": [
    {
     "data": {
      "text/plain": [
       "<matplotlib.axes._subplots.AxesSubplot at 0x1193c42d0>"
      ]
     },
     "execution_count": 71,
     "metadata": {},
     "output_type": "execute_result"
    },
    {
     "data": {
      "image/png": "[encoded data removed]",
      "text/plain": [
       "<matplotlib.figure.Figure at 0x118f53d50>"
      ]
     },
     "metadata": {},
     "output_type": "display_data"
    },
    {
     "data": {
      "image/png": "[encoded data removed]",
      "text/plain": [
       "<matplotlib.figure.Figure at 0x11937f690>"
      ]
     },
     "metadata": {},
     "output_type": "display_data"
    }
   ],
   "source": [
    "grouped2[grouped2.year == 2011].plot(x = 'month', y = 'count')\n",
    "grouped2[grouped2.year == 2012].plot(x = 'month', y = 'count')"
   ]
  },
  {
   "cell_type": "code",
   "execution_count": 70,
   "metadata": {
    "collapsed": false
   },
   "outputs": [
    {
     "data": {
      "text/plain": [
       "<matplotlib.axes._subplots.AxesSubplot at 0x118e83a50>"
      ]
     },
     "execution_count": 70,
     "metadata": {},
     "output_type": "execute_result"
    },
    {
     "data": {
      "image/png": "[encoded data removed]",
      "text/plain": [
       "<matplotlib.figure.Figure at 0x118ca3790>"
      ]
     },
     "metadata": {},
     "output_type": "display_data"
    }
   ],
   "source": []
  },
  {
   "cell_type": "markdown",
   "metadata": {},
   "source": [
    "#### Обучение и отложенный тест"
   ]
  },
  {
   "cell_type": "code",
   "execution_count": 105,
   "metadata": {
    "collapsed": false
   },
   "outputs": [],
   "source": [
    "train_data = raw_data.iloc[:-1000, :]\n",
    "hold_out_test_data = raw_data.iloc[-1000:, :]"
   ]
  },
  {
   "cell_type": "code",
   "execution_count": null,
   "metadata": {
    "collapsed": false
   },
   "outputs": [],
   "source": [
    "print raw_data.shape, train_data.shape, hold_out_test_data.shape"
   ]
  },
  {
   "cell_type": "code",
   "execution_count": 106,
   "metadata": {
    "collapsed": false
   },
   "outputs": [
    {
     "name": "stdout",
     "output_type": "stream",
     "text": [
      "train period from 2011-01-01 00:00:00 to 2012-10-16 06:00:00\n",
      "evaluation period from 2012-10-16 07:00:00 to 2012-12-19 23:00:00\n"
     ]
    }
   ],
   "source": [
    "print 'train period from {} to {}'.format(train_data.datetime.min(), train_data.datetime.max())\n",
    "print 'evaluation period from {} to {}'.format(hold_out_test_data.datetime.min(), hold_out_test_data.datetime.max())"
   ]
  },
  {
   "cell_type": "markdown",
   "metadata": {},
   "source": [
    "#### Данные и целевая функция"
   ]
  },
  {
   "cell_type": "code",
   "execution_count": 107,
   "metadata": {
    "collapsed": false
   },
   "outputs": [],
   "source": [
    "#обучение\n",
    "train_labels = train_data['count'].values\n",
    "train_data = train_data.drop(['datetime', 'count'], axis = 1)"
   ]
  },
  {
   "cell_type": "code",
   "execution_count": 108,
   "metadata": {
    "collapsed": false
   },
   "outputs": [],
   "source": [
    "#тест\n",
    "test_labels = hold_out_test_data['count'].values\n",
    "test_data = hold_out_test_data.drop(['datetime', 'count'], axis = 1)"
   ]
  },
  {
   "cell_type": "markdown",
   "metadata": {},
   "source": [
    "#### Целевая функция на обучающей выборке и на отложенном тесте"
   ]
  },
  {
   "cell_type": "code",
   "execution_count": 109,
   "metadata": {
    "collapsed": false
   },
   "outputs": [
    {
     "data": {
      "text/plain": [
       "<matplotlib.text.Text at 0x11992a510>"
      ]
     },
     "execution_count": 109,
     "metadata": {},
     "output_type": "execute_result"
    },
    {
     "data": {
      "image/png": "[encoded data removed]",
      "text/plain": [
       "<matplotlib.figure.Figure at 0x119371410>"
      ]
     },
     "metadata": {},
     "output_type": "display_data"
    }
   ],
   "source": [
    "pylab.figure(figsize = (16, 6))\n",
    "\n",
    "pylab.subplot(1,2,1)\n",
    "pylab.hist(train_labels)\n",
    "pylab.title('train data')\n",
    "\n",
    "pylab.subplot(1,2,2)\n",
    "pylab.hist(test_labels)\n",
    "pylab.title('test data')"
   ]
  },
  {
   "cell_type": "markdown",
   "metadata": {},
   "source": [
    "#### Числовые признаки"
   ]
  },
  {
   "cell_type": "code",
   "execution_count": 111,
   "metadata": {
    "collapsed": false
   },
   "outputs": [],
   "source": [
    "numeric_columns = ['temp', 'atemp', 'humidity', 'windspeed', 'casual', 'registered', 'month', 'hour', 'year']"
   ]
  },
  {
   "cell_type": "code",
   "execution_count": 112,
   "metadata": {
    "collapsed": false
   },
   "outputs": [],
   "source": [
    "train_data = train_data[numeric_columns]\n",
    "test_data = test_data[numeric_columns]"
   ]
  },
  {
   "cell_type": "code",
   "execution_count": 113,
   "metadata": {
    "collapsed": false
   },
   "outputs": [
    {
     "data": {
      "text/html": [
       "<div>\n",
       "<table border=\"1\" class=\"dataframe\">\n",
       "  <thead>\n",
       "    <tr style=\"text-align: right;\">\n",
       "      <th></th>\n",
       "      <th>temp</th>\n",
       "      <th>atemp</th>\n",
       "      <th>humidity</th>\n",
       "      <th>windspeed</th>\n",
       "      <th>casual</th>\n",
       "      <th>registered</th>\n",
       "      <th>month</th>\n",
       "      <th>hour</th>\n",
       "      <th>year</th>\n",
       "    </tr>\n",
       "  </thead>\n",
       "  <tbody>\n",
       "    <tr>\n",
       "      <th>0</th>\n",
       "      <td>9.84</td>\n",
       "      <td>14.395</td>\n",
       "      <td>81</td>\n",
       "      <td>0</td>\n",
       "      <td>3</td>\n",
       "      <td>13</td>\n",
       "      <td>1</td>\n",
       "      <td>0</td>\n",
       "      <td>2011</td>\n",
       "    </tr>\n",
       "    <tr>\n",
       "      <th>1</th>\n",
       "      <td>9.02</td>\n",
       "      <td>13.635</td>\n",
       "      <td>80</td>\n",
       "      <td>0</td>\n",
       "      <td>8</td>\n",
       "      <td>32</td>\n",
       "      <td>1</td>\n",
       "      <td>1</td>\n",
       "      <td>2011</td>\n",
       "    </tr>\n",
       "    <tr>\n",
       "      <th>2</th>\n",
       "      <td>9.02</td>\n",
       "      <td>13.635</td>\n",
       "      <td>80</td>\n",
       "      <td>0</td>\n",
       "      <td>5</td>\n",
       "      <td>27</td>\n",
       "      <td>1</td>\n",
       "      <td>2</td>\n",
       "      <td>2011</td>\n",
       "    </tr>\n",
       "    <tr>\n",
       "      <th>3</th>\n",
       "      <td>9.84</td>\n",
       "      <td>14.395</td>\n",
       "      <td>75</td>\n",
       "      <td>0</td>\n",
       "      <td>3</td>\n",
       "      <td>10</td>\n",
       "      <td>1</td>\n",
       "      <td>3</td>\n",
       "      <td>2011</td>\n",
       "    </tr>\n",
       "    <tr>\n",
       "      <th>4</th>\n",
       "      <td>9.84</td>\n",
       "      <td>14.395</td>\n",
       "      <td>75</td>\n",
       "      <td>0</td>\n",
       "      <td>0</td>\n",
       "      <td>1</td>\n",
       "      <td>1</td>\n",
       "      <td>4</td>\n",
       "      <td>2011</td>\n",
       "    </tr>\n",
       "  </tbody>\n",
       "</table>\n",
       "</div>"
      ],
      "text/plain": [
       "   temp   atemp  humidity  windspeed  casual  registered  month  hour  year\n",
       "0  9.84  14.395        81          0       3          13      1     0  2011\n",
       "1  9.02  13.635        80          0       8          32      1     1  2011\n",
       "2  9.02  13.635        80          0       5          27      1     2  2011\n",
       "3  9.84  14.395        75          0       3          10      1     3  2011\n",
       "4  9.84  14.395        75          0       0           1      1     4  2011"
      ]
     },
     "execution_count": 113,
     "metadata": {},
     "output_type": "execute_result"
    }
   ],
   "source": [
    "train_data.head()"
   ]
  },
  {
   "cell_type": "code",
   "execution_count": 114,
   "metadata": {
    "collapsed": false
   },
   "outputs": [
    {
     "data": {
      "text/html": [
       "<div>\n",
       "<table border=\"1\" class=\"dataframe\">\n",
       "  <thead>\n",
       "    <tr style=\"text-align: right;\">\n",
       "      <th></th>\n",
       "      <th>temp</th>\n",
       "      <th>atemp</th>\n",
       "      <th>humidity</th>\n",
       "      <th>windspeed</th>\n",
       "      <th>casual</th>\n",
       "      <th>registered</th>\n",
       "      <th>month</th>\n",
       "      <th>hour</th>\n",
       "      <th>year</th>\n",
       "    </tr>\n",
       "  </thead>\n",
       "  <tbody>\n",
       "    <tr>\n",
       "      <th>9886</th>\n",
       "      <td>17.22</td>\n",
       "      <td>21.210</td>\n",
       "      <td>67</td>\n",
       "      <td>6.0032</td>\n",
       "      <td>20</td>\n",
       "      <td>505</td>\n",
       "      <td>10</td>\n",
       "      <td>7</td>\n",
       "      <td>2012</td>\n",
       "    </tr>\n",
       "    <tr>\n",
       "      <th>9887</th>\n",
       "      <td>18.04</td>\n",
       "      <td>21.970</td>\n",
       "      <td>62</td>\n",
       "      <td>0.0000</td>\n",
       "      <td>35</td>\n",
       "      <td>800</td>\n",
       "      <td>10</td>\n",
       "      <td>8</td>\n",
       "      <td>2012</td>\n",
       "    </tr>\n",
       "    <tr>\n",
       "      <th>9888</th>\n",
       "      <td>19.68</td>\n",
       "      <td>23.485</td>\n",
       "      <td>55</td>\n",
       "      <td>16.9979</td>\n",
       "      <td>32</td>\n",
       "      <td>323</td>\n",
       "      <td>10</td>\n",
       "      <td>9</td>\n",
       "      <td>2012</td>\n",
       "    </tr>\n",
       "    <tr>\n",
       "      <th>9889</th>\n",
       "      <td>20.50</td>\n",
       "      <td>24.240</td>\n",
       "      <td>48</td>\n",
       "      <td>19.0012</td>\n",
       "      <td>65</td>\n",
       "      <td>157</td>\n",
       "      <td>10</td>\n",
       "      <td>10</td>\n",
       "      <td>2012</td>\n",
       "    </tr>\n",
       "    <tr>\n",
       "      <th>9890</th>\n",
       "      <td>20.50</td>\n",
       "      <td>24.240</td>\n",
       "      <td>45</td>\n",
       "      <td>27.9993</td>\n",
       "      <td>56</td>\n",
       "      <td>172</td>\n",
       "      <td>10</td>\n",
       "      <td>11</td>\n",
       "      <td>2012</td>\n",
       "    </tr>\n",
       "  </tbody>\n",
       "</table>\n",
       "</div>"
      ],
      "text/plain": [
       "       temp   atemp  humidity  windspeed  casual  registered  month  hour  \\\n",
       "9886  17.22  21.210        67     6.0032      20         505     10     7   \n",
       "9887  18.04  21.970        62     0.0000      35         800     10     8   \n",
       "9888  19.68  23.485        55    16.9979      32         323     10     9   \n",
       "9889  20.50  24.240        48    19.0012      65         157     10    10   \n",
       "9890  20.50  24.240        45    27.9993      56         172     10    11   \n",
       "\n",
       "      year  \n",
       "9886  2012  \n",
       "9887  2012  \n",
       "9888  2012  \n",
       "9889  2012  \n",
       "9890  2012  "
      ]
     },
     "execution_count": 114,
     "metadata": {},
     "output_type": "execute_result"
    }
   ],
   "source": [
    "test_data.head()"
   ]
  },
  {
   "cell_type": "code",
   "execution_count": 115,
   "metadata": {
    "collapsed": false
   },
   "outputs": [
    {
     "data": {
      "text/html": [
       "<div>\n",
       "<table border=\"1\" class=\"dataframe\">\n",
       "  <thead>\n",
       "    <tr style=\"text-align: right;\">\n",
       "      <th></th>\n",
       "      <th>temp</th>\n",
       "      <th>atemp</th>\n",
       "      <th>humidity</th>\n",
       "      <th>windspeed</th>\n",
       "      <th>casual</th>\n",
       "      <th>registered</th>\n",
       "      <th>month</th>\n",
       "      <th>hour</th>\n",
       "      <th>year</th>\n",
       "    </tr>\n",
       "  </thead>\n",
       "  <tbody>\n",
       "    <tr>\n",
       "      <th>count</th>\n",
       "      <td>9886.000000</td>\n",
       "      <td>9886.000000</td>\n",
       "      <td>9886.000000</td>\n",
       "      <td>9886.000000</td>\n",
       "      <td>9886.000000</td>\n",
       "      <td>9886.000000</td>\n",
       "      <td>9886.000000</td>\n",
       "      <td>9886.000000</td>\n",
       "      <td>9886.000000</td>\n",
       "    </tr>\n",
       "    <tr>\n",
       "      <th>mean</th>\n",
       "      <td>20.749003</td>\n",
       "      <td>24.193210</td>\n",
       "      <td>61.580012</td>\n",
       "      <td>12.858876</td>\n",
       "      <td>36.786567</td>\n",
       "      <td>150.682278</td>\n",
       "      <td>6.031357</td>\n",
       "      <td>11.538944</td>\n",
       "      <td>2011.451548</td>\n",
       "    </tr>\n",
       "    <tr>\n",
       "      <th>std</th>\n",
       "      <td>7.914962</td>\n",
       "      <td>8.612127</td>\n",
       "      <td>19.400891</td>\n",
       "      <td>8.243959</td>\n",
       "      <td>50.861132</td>\n",
       "      <td>148.035930</td>\n",
       "      <td>3.225974</td>\n",
       "      <td>6.916852</td>\n",
       "      <td>0.497672</td>\n",
       "    </tr>\n",
       "    <tr>\n",
       "      <th>min</th>\n",
       "      <td>0.820000</td>\n",
       "      <td>0.760000</td>\n",
       "      <td>0.000000</td>\n",
       "      <td>0.000000</td>\n",
       "      <td>0.000000</td>\n",
       "      <td>0.000000</td>\n",
       "      <td>1.000000</td>\n",
       "      <td>0.000000</td>\n",
       "      <td>2011.000000</td>\n",
       "    </tr>\n",
       "    <tr>\n",
       "      <th>25%</th>\n",
       "      <td>13.940000</td>\n",
       "      <td>16.665000</td>\n",
       "      <td>46.000000</td>\n",
       "      <td>7.001500</td>\n",
       "      <td>4.000000</td>\n",
       "      <td>34.000000</td>\n",
       "      <td>3.000000</td>\n",
       "      <td>6.000000</td>\n",
       "      <td>2011.000000</td>\n",
       "    </tr>\n",
       "    <tr>\n",
       "      <th>50%</th>\n",
       "      <td>21.320000</td>\n",
       "      <td>25.000000</td>\n",
       "      <td>62.000000</td>\n",
       "      <td>12.998000</td>\n",
       "      <td>17.000000</td>\n",
       "      <td>113.000000</td>\n",
       "      <td>6.000000</td>\n",
       "      <td>12.000000</td>\n",
       "      <td>2011.000000</td>\n",
       "    </tr>\n",
       "    <tr>\n",
       "      <th>75%</th>\n",
       "      <td>27.060000</td>\n",
       "      <td>31.060000</td>\n",
       "      <td>77.000000</td>\n",
       "      <td>16.997900</td>\n",
       "      <td>50.000000</td>\n",
       "      <td>216.000000</td>\n",
       "      <td>9.000000</td>\n",
       "      <td>18.000000</td>\n",
       "      <td>2012.000000</td>\n",
       "    </tr>\n",
       "    <tr>\n",
       "      <th>max</th>\n",
       "      <td>41.000000</td>\n",
       "      <td>45.455000</td>\n",
       "      <td>100.000000</td>\n",
       "      <td>56.996900</td>\n",
       "      <td>367.000000</td>\n",
       "      <td>886.000000</td>\n",
       "      <td>12.000000</td>\n",
       "      <td>23.000000</td>\n",
       "      <td>2012.000000</td>\n",
       "    </tr>\n",
       "  </tbody>\n",
       "</table>\n",
       "</div>"
      ],
      "text/plain": [
       "              temp        atemp     humidity    windspeed       casual  \\\n",
       "count  9886.000000  9886.000000  9886.000000  9886.000000  9886.000000   \n",
       "mean     20.749003    24.193210    61.580012    12.858876    36.786567   \n",
       "std       7.914962     8.612127    19.400891     8.243959    50.861132   \n",
       "min       0.820000     0.760000     0.000000     0.000000     0.000000   \n",
       "25%      13.940000    16.665000    46.000000     7.001500     4.000000   \n",
       "50%      21.320000    25.000000    62.000000    12.998000    17.000000   \n",
       "75%      27.060000    31.060000    77.000000    16.997900    50.000000   \n",
       "max      41.000000    45.455000   100.000000    56.996900   367.000000   \n",
       "\n",
       "        registered        month         hour         year  \n",
       "count  9886.000000  9886.000000  9886.000000  9886.000000  \n",
       "mean    150.682278     6.031357    11.538944  2011.451548  \n",
       "std     148.035930     3.225974     6.916852     0.497672  \n",
       "min       0.000000     1.000000     0.000000  2011.000000  \n",
       "25%      34.000000     3.000000     6.000000  2011.000000  \n",
       "50%     113.000000     6.000000    12.000000  2011.000000  \n",
       "75%     216.000000     9.000000    18.000000  2012.000000  \n",
       "max     886.000000    12.000000    23.000000  2012.000000  "
      ]
     },
     "execution_count": 115,
     "metadata": {},
     "output_type": "execute_result"
    }
   ],
   "source": [
    "train_data.describe()"
   ]
  },
  {
   "cell_type": "code",
   "execution_count": 116,
   "metadata": {
    "collapsed": false
   },
   "outputs": [
    {
     "data": {
      "text/html": [
       "<div>\n",
       "<table border=\"1\" class=\"dataframe\">\n",
       "  <thead>\n",
       "    <tr style=\"text-align: right;\">\n",
       "      <th></th>\n",
       "      <th>temp</th>\n",
       "      <th>atemp</th>\n",
       "      <th>humidity</th>\n",
       "      <th>windspeed</th>\n",
       "      <th>casual</th>\n",
       "      <th>registered</th>\n",
       "      <th>month</th>\n",
       "      <th>hour</th>\n",
       "      <th>year</th>\n",
       "    </tr>\n",
       "  </thead>\n",
       "  <tbody>\n",
       "    <tr>\n",
       "      <th>count</th>\n",
       "      <td>1000.000000</td>\n",
       "      <td>1000.000000</td>\n",
       "      <td>1000.0000</td>\n",
       "      <td>1000.000000</td>\n",
       "      <td>1000.000000</td>\n",
       "      <td>1000.000000</td>\n",
       "      <td>1000.000000</td>\n",
       "      <td>1000.000000</td>\n",
       "      <td>1000</td>\n",
       "    </tr>\n",
       "    <tr>\n",
       "      <th>mean</th>\n",
       "      <td>15.108500</td>\n",
       "      <td>18.335175</td>\n",
       "      <td>64.9160</td>\n",
       "      <td>12.211366</td>\n",
       "      <td>28.463000</td>\n",
       "      <td>203.696000</td>\n",
       "      <td>11.367000</td>\n",
       "      <td>11.568000</td>\n",
       "      <td>2012</td>\n",
       "    </tr>\n",
       "    <tr>\n",
       "      <th>std</th>\n",
       "      <td>3.560087</td>\n",
       "      <td>4.176557</td>\n",
       "      <td>17.3501</td>\n",
       "      <td>7.310975</td>\n",
       "      <td>39.205302</td>\n",
       "      <td>170.786169</td>\n",
       "      <td>0.640876</td>\n",
       "      <td>6.909205</td>\n",
       "      <td>0</td>\n",
       "    </tr>\n",
       "    <tr>\n",
       "      <th>min</th>\n",
       "      <td>6.560000</td>\n",
       "      <td>9.090000</td>\n",
       "      <td>16.0000</td>\n",
       "      <td>0.000000</td>\n",
       "      <td>0.000000</td>\n",
       "      <td>1.000000</td>\n",
       "      <td>10.000000</td>\n",
       "      <td>0.000000</td>\n",
       "      <td>2012</td>\n",
       "    </tr>\n",
       "    <tr>\n",
       "      <th>25%</th>\n",
       "      <td>12.300000</td>\n",
       "      <td>15.150000</td>\n",
       "      <td>52.0000</td>\n",
       "      <td>7.001500</td>\n",
       "      <td>5.000000</td>\n",
       "      <td>64.000000</td>\n",
       "      <td>11.000000</td>\n",
       "      <td>6.000000</td>\n",
       "      <td>2012</td>\n",
       "    </tr>\n",
       "    <tr>\n",
       "      <th>50%</th>\n",
       "      <td>14.760000</td>\n",
       "      <td>17.425000</td>\n",
       "      <td>63.0000</td>\n",
       "      <td>11.001400</td>\n",
       "      <td>16.000000</td>\n",
       "      <td>178.000000</td>\n",
       "      <td>11.000000</td>\n",
       "      <td>12.000000</td>\n",
       "      <td>2012</td>\n",
       "    </tr>\n",
       "    <tr>\n",
       "      <th>75%</th>\n",
       "      <td>17.220000</td>\n",
       "      <td>21.210000</td>\n",
       "      <td>81.0000</td>\n",
       "      <td>16.997900</td>\n",
       "      <td>34.000000</td>\n",
       "      <td>302.000000</td>\n",
       "      <td>12.000000</td>\n",
       "      <td>18.000000</td>\n",
       "      <td>2012</td>\n",
       "    </tr>\n",
       "    <tr>\n",
       "      <th>max</th>\n",
       "      <td>27.060000</td>\n",
       "      <td>31.060000</td>\n",
       "      <td>100.0000</td>\n",
       "      <td>43.000600</td>\n",
       "      <td>304.000000</td>\n",
       "      <td>839.000000</td>\n",
       "      <td>12.000000</td>\n",
       "      <td>23.000000</td>\n",
       "      <td>2012</td>\n",
       "    </tr>\n",
       "  </tbody>\n",
       "</table>\n",
       "</div>"
      ],
      "text/plain": [
       "              temp        atemp   humidity    windspeed       casual  \\\n",
       "count  1000.000000  1000.000000  1000.0000  1000.000000  1000.000000   \n",
       "mean     15.108500    18.335175    64.9160    12.211366    28.463000   \n",
       "std       3.560087     4.176557    17.3501     7.310975    39.205302   \n",
       "min       6.560000     9.090000    16.0000     0.000000     0.000000   \n",
       "25%      12.300000    15.150000    52.0000     7.001500     5.000000   \n",
       "50%      14.760000    17.425000    63.0000    11.001400    16.000000   \n",
       "75%      17.220000    21.210000    81.0000    16.997900    34.000000   \n",
       "max      27.060000    31.060000   100.0000    43.000600   304.000000   \n",
       "\n",
       "        registered        month         hour  year  \n",
       "count  1000.000000  1000.000000  1000.000000  1000  \n",
       "mean    203.696000    11.367000    11.568000  2012  \n",
       "std     170.786169     0.640876     6.909205     0  \n",
       "min       1.000000    10.000000     0.000000  2012  \n",
       "25%      64.000000    11.000000     6.000000  2012  \n",
       "50%     178.000000    11.000000    12.000000  2012  \n",
       "75%     302.000000    12.000000    18.000000  2012  \n",
       "max     839.000000    12.000000    23.000000  2012  "
      ]
     },
     "execution_count": 116,
     "metadata": {},
     "output_type": "execute_result"
    }
   ],
   "source": [
    "test_data.describe()"
   ]
  },
  {
   "cell_type": "markdown",
   "metadata": {},
   "source": [
    "### Модель"
   ]
  },
  {
   "cell_type": "code",
   "execution_count": 117,
   "metadata": {
    "collapsed": false
   },
   "outputs": [],
   "source": [
    "regressor = linear_model.SGDRegressor(random_state = 0)"
   ]
  },
  {
   "cell_type": "code",
   "execution_count": 118,
   "metadata": {
    "collapsed": false
   },
   "outputs": [
    {
     "data": {
      "text/plain": [
       "281908708562256.56"
      ]
     },
     "execution_count": 118,
     "metadata": {},
     "output_type": "execute_result"
    }
   ],
   "source": [
    "regressor.fit(train_data, train_labels)\n",
    "metrics.mean_absolute_error(test_labels, regressor.predict(test_data))"
   ]
  },
  {
   "cell_type": "code",
   "execution_count": 119,
   "metadata": {
    "collapsed": false
   },
   "outputs": [
    {
     "name": "stdout",
     "output_type": "stream",
     "text": [
      "[525 835 355 222 228 325 328 308 346 446]\n"
     ]
    }
   ],
   "source": [
    "print test_labels[:10]"
   ]
  },
  {
   "cell_type": "code",
   "execution_count": 120,
   "metadata": {
    "collapsed": false
   },
   "outputs": [
    {
     "name": "stdout",
     "output_type": "stream",
     "text": [
      "[ -5.04311877e+14  -7.24125558e+14  -3.38901800e+14  -2.40144889e+14\n",
      "  -2.09430445e+14  -2.97545815e+14  -3.06732288e+14  -2.94558572e+14\n",
      "  -3.05473409e+14  -3.76658903e+14]\n"
     ]
    }
   ],
   "source": [
    "print regressor.predict(test_data)[:10]"
   ]
  },
  {
   "cell_type": "code",
   "execution_count": 121,
   "metadata": {
    "collapsed": false
   },
   "outputs": [
    {
     "data": {
      "text/plain": [
       "array([ -1.02967083e+12,  -1.24526954e+12,  -2.70504794e+12,\n",
       "         2.54162739e+12,  -1.09288312e+12,  -6.77823485e+11,\n",
       "        -1.97997457e+10,   6.08865995e+10,   3.46629829e+10])"
      ]
     },
     "execution_count": 121,
     "metadata": {},
     "output_type": "execute_result"
    }
   ],
   "source": [
    "regressor.coef_"
   ]
  },
  {
   "cell_type": "code",
   "execution_count": 122,
   "metadata": {
    "collapsed": false
   },
   "outputs": [
    {
     "data": {
      "text/html": [
       "<div>\n",
       "<table border=\"1\" class=\"dataframe\">\n",
       "  <thead>\n",
       "    <tr style=\"text-align: right;\">\n",
       "      <th></th>\n",
       "      <th>temp</th>\n",
       "      <th>atemp</th>\n",
       "      <th>humidity</th>\n",
       "      <th>windspeed</th>\n",
       "      <th>casual</th>\n",
       "      <th>registered</th>\n",
       "      <th>month</th>\n",
       "      <th>hour</th>\n",
       "      <th>year</th>\n",
       "    </tr>\n",
       "  </thead>\n",
       "  <tbody>\n",
       "    <tr>\n",
       "      <th>9886</th>\n",
       "      <td>17.22</td>\n",
       "      <td>21.210</td>\n",
       "      <td>67</td>\n",
       "      <td>6.0032</td>\n",
       "      <td>20</td>\n",
       "      <td>505</td>\n",
       "      <td>10</td>\n",
       "      <td>7</td>\n",
       "      <td>2012</td>\n",
       "    </tr>\n",
       "    <tr>\n",
       "      <th>9887</th>\n",
       "      <td>18.04</td>\n",
       "      <td>21.970</td>\n",
       "      <td>62</td>\n",
       "      <td>0.0000</td>\n",
       "      <td>35</td>\n",
       "      <td>800</td>\n",
       "      <td>10</td>\n",
       "      <td>8</td>\n",
       "      <td>2012</td>\n",
       "    </tr>\n",
       "    <tr>\n",
       "      <th>9888</th>\n",
       "      <td>19.68</td>\n",
       "      <td>23.485</td>\n",
       "      <td>55</td>\n",
       "      <td>16.9979</td>\n",
       "      <td>32</td>\n",
       "      <td>323</td>\n",
       "      <td>10</td>\n",
       "      <td>9</td>\n",
       "      <td>2012</td>\n",
       "    </tr>\n",
       "    <tr>\n",
       "      <th>9889</th>\n",
       "      <td>20.50</td>\n",
       "      <td>24.240</td>\n",
       "      <td>48</td>\n",
       "      <td>19.0012</td>\n",
       "      <td>65</td>\n",
       "      <td>157</td>\n",
       "      <td>10</td>\n",
       "      <td>10</td>\n",
       "      <td>2012</td>\n",
       "    </tr>\n",
       "    <tr>\n",
       "      <th>9890</th>\n",
       "      <td>20.50</td>\n",
       "      <td>24.240</td>\n",
       "      <td>45</td>\n",
       "      <td>27.9993</td>\n",
       "      <td>56</td>\n",
       "      <td>172</td>\n",
       "      <td>10</td>\n",
       "      <td>11</td>\n",
       "      <td>2012</td>\n",
       "    </tr>\n",
       "  </tbody>\n",
       "</table>\n",
       "</div>"
      ],
      "text/plain": [
       "       temp   atemp  humidity  windspeed  casual  registered  month  hour  \\\n",
       "9886  17.22  21.210        67     6.0032      20         505     10     7   \n",
       "9887  18.04  21.970        62     0.0000      35         800     10     8   \n",
       "9888  19.68  23.485        55    16.9979      32         323     10     9   \n",
       "9889  20.50  24.240        48    19.0012      65         157     10    10   \n",
       "9890  20.50  24.240        45    27.9993      56         172     10    11   \n",
       "\n",
       "      year  \n",
       "9886  2012  \n",
       "9887  2012  \n",
       "9888  2012  \n",
       "9889  2012  \n",
       "9890  2012  "
      ]
     },
     "execution_count": 122,
     "metadata": {},
     "output_type": "execute_result"
    }
   ],
   "source": [
    "test_data.head()"
   ]
  },
  {
   "cell_type": "markdown",
   "metadata": {
    "collapsed": true
   },
   "source": [
    "### Scaling"
   ]
  },
  {
   "cell_type": "code",
   "execution_count": 123,
   "metadata": {
    "collapsed": true
   },
   "outputs": [],
   "source": [
    "from sklearn.preprocessing import StandardScaler"
   ]
  },
  {
   "cell_type": "code",
   "execution_count": 124,
   "metadata": {
    "collapsed": false
   },
   "outputs": [],
   "source": [
    "#создаем scaler\n",
    "scaler = StandardScaler()\n",
    "scaler.fit(train_data, train_labels)\n",
    "scaled_train_data = scaler.transform(train_data)\n",
    "scaled_test_data = scaler.transform(test_data)"
   ]
  },
  {
   "cell_type": "code",
   "execution_count": 127,
   "metadata": {
    "collapsed": false
   },
   "outputs": [
    {
     "data": {
      "text/plain": [
       "0.11065315210996257"
      ]
     },
     "execution_count": 127,
     "metadata": {},
     "output_type": "execute_result"
    }
   ],
   "source": [
    "regressor.fit(scaled_train_data, train_labels)\n",
    "metrics.mean_absolute_error(test_labels, regressor.predict(scaled_test_data))"
   ]
  },
  {
   "cell_type": "code",
   "execution_count": 128,
   "metadata": {
    "collapsed": false
   },
   "outputs": [
    {
     "name": "stdout",
     "output_type": "stream",
     "text": [
      "[525 835 355 222 228 325 328 308 346 446]\n"
     ]
    }
   ],
   "source": [
    "print test_labels[:10]"
   ]
  },
  {
   "cell_type": "code",
   "execution_count": 129,
   "metadata": {
    "collapsed": false
   },
   "outputs": [
    {
     "name": "stdout",
     "output_type": "stream",
     "text": [
      "[ 524.83698603  834.84175856  354.86396113  221.89530717  227.84744926\n",
      "  324.88597616  327.90091315  307.93455794  345.9037671   445.90398138]\n"
     ]
    }
   ],
   "source": [
    "print regressor.predict(scaled_test_data)[:10]"
   ]
  },
  {
   "cell_type": "markdown",
   "metadata": {},
   "source": [
    "### Подозрительно хорошо?"
   ]
  },
  {
   "cell_type": "code",
   "execution_count": 130,
   "metadata": {
    "collapsed": false
   },
   "outputs": [
    {
     "name": "stdout",
     "output_type": "stream",
     "text": [
      "[  1.29448025e+00  -1.29043936e+00   1.31933375e-02  -4.05940107e-02\n",
      "   5.08590616e+01   1.48007111e+02  -9.50811646e-03   5.13469808e-03\n",
      "  -3.11281720e-03]\n"
     ]
    }
   ],
   "source": [
    "print regressor.coef_"
   ]
  },
  {
   "cell_type": "code",
   "execution_count": 131,
   "metadata": {
    "collapsed": false
   },
   "outputs": [
    {
     "name": "stdout",
     "output_type": "stream",
     "text": [
      "[1.29, -1.29, 0.01, -0.04, 50.86, 148.01, -0.01, 0.01, -0.0]\n"
     ]
    }
   ],
   "source": [
    "print map(lambda x : round(x, 2), regressor.coef_)"
   ]
  },
  {
   "cell_type": "code",
   "execution_count": 132,
   "metadata": {
    "collapsed": false
   },
   "outputs": [
    {
     "data": {
      "text/html": [
       "<div>\n",
       "<table border=\"1\" class=\"dataframe\">\n",
       "  <thead>\n",
       "    <tr style=\"text-align: right;\">\n",
       "      <th></th>\n",
       "      <th>temp</th>\n",
       "      <th>atemp</th>\n",
       "      <th>humidity</th>\n",
       "      <th>windspeed</th>\n",
       "      <th>casual</th>\n",
       "      <th>registered</th>\n",
       "      <th>month</th>\n",
       "      <th>hour</th>\n",
       "      <th>year</th>\n",
       "    </tr>\n",
       "  </thead>\n",
       "  <tbody>\n",
       "    <tr>\n",
       "      <th>0</th>\n",
       "      <td>9.84</td>\n",
       "      <td>14.395</td>\n",
       "      <td>81</td>\n",
       "      <td>0</td>\n",
       "      <td>3</td>\n",
       "      <td>13</td>\n",
       "      <td>1</td>\n",
       "      <td>0</td>\n",
       "      <td>2011</td>\n",
       "    </tr>\n",
       "    <tr>\n",
       "      <th>1</th>\n",
       "      <td>9.02</td>\n",
       "      <td>13.635</td>\n",
       "      <td>80</td>\n",
       "      <td>0</td>\n",
       "      <td>8</td>\n",
       "      <td>32</td>\n",
       "      <td>1</td>\n",
       "      <td>1</td>\n",
       "      <td>2011</td>\n",
       "    </tr>\n",
       "    <tr>\n",
       "      <th>2</th>\n",
       "      <td>9.02</td>\n",
       "      <td>13.635</td>\n",
       "      <td>80</td>\n",
       "      <td>0</td>\n",
       "      <td>5</td>\n",
       "      <td>27</td>\n",
       "      <td>1</td>\n",
       "      <td>2</td>\n",
       "      <td>2011</td>\n",
       "    </tr>\n",
       "    <tr>\n",
       "      <th>3</th>\n",
       "      <td>9.84</td>\n",
       "      <td>14.395</td>\n",
       "      <td>75</td>\n",
       "      <td>0</td>\n",
       "      <td>3</td>\n",
       "      <td>10</td>\n",
       "      <td>1</td>\n",
       "      <td>3</td>\n",
       "      <td>2011</td>\n",
       "    </tr>\n",
       "    <tr>\n",
       "      <th>4</th>\n",
       "      <td>9.84</td>\n",
       "      <td>14.395</td>\n",
       "      <td>75</td>\n",
       "      <td>0</td>\n",
       "      <td>0</td>\n",
       "      <td>1</td>\n",
       "      <td>1</td>\n",
       "      <td>4</td>\n",
       "      <td>2011</td>\n",
       "    </tr>\n",
       "  </tbody>\n",
       "</table>\n",
       "</div>"
      ],
      "text/plain": [
       "   temp   atemp  humidity  windspeed  casual  registered  month  hour  year\n",
       "0  9.84  14.395        81          0       3          13      1     0  2011\n",
       "1  9.02  13.635        80          0       8          32      1     1  2011\n",
       "2  9.02  13.635        80          0       5          27      1     2  2011\n",
       "3  9.84  14.395        75          0       3          10      1     3  2011\n",
       "4  9.84  14.395        75          0       0           1      1     4  2011"
      ]
     },
     "execution_count": 132,
     "metadata": {},
     "output_type": "execute_result"
    }
   ],
   "source": [
    "train_data.head()"
   ]
  },
  {
   "cell_type": "code",
   "execution_count": null,
   "metadata": {
    "collapsed": false
   },
   "outputs": [],
   "source": [
    "train_labels[:10]"
   ]
  },
  {
   "cell_type": "code",
   "execution_count": 133,
   "metadata": {
    "collapsed": false
   },
   "outputs": [
    {
     "data": {
      "text/plain": [
       "True"
      ]
     },
     "execution_count": 133,
     "metadata": {},
     "output_type": "execute_result"
    }
   ],
   "source": [
    "np.all(train_data.registered + train_data.casual == train_labels)"
   ]
  },
  {
   "cell_type": "code",
   "execution_count": 134,
   "metadata": {
    "collapsed": false
   },
   "outputs": [],
   "source": [
    "train_data.drop(['casual', 'registered'], axis = 1, inplace = True)\n",
    "test_data.drop(['casual', 'registered'], axis = 1, inplace = True)"
   ]
  },
  {
   "cell_type": "code",
   "execution_count": 135,
   "metadata": {
    "collapsed": false
   },
   "outputs": [],
   "source": [
    "scaler.fit(train_data, train_labels)\n",
    "scaled_train_data = scaler.transform(train_data)\n",
    "scaled_test_data = scaler.transform(test_data)"
   ]
  },
  {
   "cell_type": "code",
   "execution_count": 136,
   "metadata": {
    "collapsed": false
   },
   "outputs": [
    {
     "data": {
      "text/plain": [
       "126.21502118610957"
      ]
     },
     "execution_count": 136,
     "metadata": {},
     "output_type": "execute_result"
    }
   ],
   "source": [
    "regressor.fit(scaled_train_data, train_labels)\n",
    "metrics.mean_absolute_error(test_labels, regressor.predict(scaled_test_data))"
   ]
  },
  {
   "cell_type": "code",
   "execution_count": 141,
   "metadata": {
    "collapsed": true
   },
   "outputs": [],
   "source": [
    "from sklearn.metrics import r2_score"
   ]
  },
  {
   "cell_type": "code",
   "execution_count": 142,
   "metadata": {
    "collapsed": false
   },
   "outputs": [
    {
     "data": {
      "text/plain": [
       "0.25807067738793033"
      ]
     },
     "execution_count": 142,
     "metadata": {},
     "output_type": "execute_result"
    }
   ],
   "source": [
    "r2_score(test_labels, regressor.predict(scaled_test_data))"
   ]
  },
  {
   "cell_type": "code",
   "execution_count": 137,
   "metadata": {
    "collapsed": false
   },
   "outputs": [
    {
     "name": "stdout",
     "output_type": "stream",
     "text": [
      "[21.95, 29.22, -39.65, 7.39, 24.92, 51.96, 41.64]\n"
     ]
    }
   ],
   "source": [
    "print map(lambda x : round(x, 2), regressor.coef_)"
   ]
  },
  {
   "cell_type": "code",
   "execution_count": 138,
   "metadata": {
    "collapsed": false
   },
   "outputs": [
    {
     "data": {
      "text/html": [
       "<div>\n",
       "<table border=\"1\" class=\"dataframe\">\n",
       "  <thead>\n",
       "    <tr style=\"text-align: right;\">\n",
       "      <th></th>\n",
       "      <th>temp</th>\n",
       "      <th>atemp</th>\n",
       "      <th>humidity</th>\n",
       "      <th>windspeed</th>\n",
       "      <th>month</th>\n",
       "      <th>hour</th>\n",
       "      <th>year</th>\n",
       "    </tr>\n",
       "  </thead>\n",
       "  <tbody>\n",
       "    <tr>\n",
       "      <th>0</th>\n",
       "      <td>9.84</td>\n",
       "      <td>14.395</td>\n",
       "      <td>81</td>\n",
       "      <td>0</td>\n",
       "      <td>1</td>\n",
       "      <td>0</td>\n",
       "      <td>2011</td>\n",
       "    </tr>\n",
       "    <tr>\n",
       "      <th>1</th>\n",
       "      <td>9.02</td>\n",
       "      <td>13.635</td>\n",
       "      <td>80</td>\n",
       "      <td>0</td>\n",
       "      <td>1</td>\n",
       "      <td>1</td>\n",
       "      <td>2011</td>\n",
       "    </tr>\n",
       "    <tr>\n",
       "      <th>2</th>\n",
       "      <td>9.02</td>\n",
       "      <td>13.635</td>\n",
       "      <td>80</td>\n",
       "      <td>0</td>\n",
       "      <td>1</td>\n",
       "      <td>2</td>\n",
       "      <td>2011</td>\n",
       "    </tr>\n",
       "    <tr>\n",
       "      <th>3</th>\n",
       "      <td>9.84</td>\n",
       "      <td>14.395</td>\n",
       "      <td>75</td>\n",
       "      <td>0</td>\n",
       "      <td>1</td>\n",
       "      <td>3</td>\n",
       "      <td>2011</td>\n",
       "    </tr>\n",
       "    <tr>\n",
       "      <th>4</th>\n",
       "      <td>9.84</td>\n",
       "      <td>14.395</td>\n",
       "      <td>75</td>\n",
       "      <td>0</td>\n",
       "      <td>1</td>\n",
       "      <td>4</td>\n",
       "      <td>2011</td>\n",
       "    </tr>\n",
       "  </tbody>\n",
       "</table>\n",
       "</div>"
      ],
      "text/plain": [
       "   temp   atemp  humidity  windspeed  month  hour  year\n",
       "0  9.84  14.395        81          0      1     0  2011\n",
       "1  9.02  13.635        80          0      1     1  2011\n",
       "2  9.02  13.635        80          0      1     2  2011\n",
       "3  9.84  14.395        75          0      1     3  2011\n",
       "4  9.84  14.395        75          0      1     4  2011"
      ]
     },
     "execution_count": 138,
     "metadata": {},
     "output_type": "execute_result"
    }
   ],
   "source": [
    "train_data.head()"
   ]
  },
  {
   "cell_type": "code",
   "execution_count": 139,
   "metadata": {
    "collapsed": false
   },
   "outputs": [
    {
     "name": "stdout",
     "output_type": "stream",
     "text": [
      "0.0\n",
      "56.9969\n"
     ]
    }
   ],
   "source": [
    "print train_data.windspeed.min()\n",
    "print train_data.windspeed.max()"
   ]
  },
  {
   "cell_type": "code",
   "execution_count": 143,
   "metadata": {
    "collapsed": true
   },
   "outputs": [],
   "source": [
    "?regressor"
   ]
  },
  {
   "cell_type": "markdown",
   "metadata": {},
   "source": [
    "### Pipeline"
   ]
  },
  {
   "cell_type": "code",
   "execution_count": 145,
   "metadata": {
    "collapsed": true
   },
   "outputs": [],
   "source": [
    "from sklearn.pipeline import Pipeline"
   ]
  },
  {
   "cell_type": "code",
   "execution_count": 146,
   "metadata": {
    "collapsed": false
   },
   "outputs": [],
   "source": [
    "#создаем pipeline из двух шагов: scaling и классификация\n",
    "pipeline = Pipeline(steps = [('scaling', scaler), ('regression', regressor)])"
   ]
  },
  {
   "cell_type": "code",
   "execution_count": 147,
   "metadata": {
    "collapsed": false
   },
   "outputs": [
    {
     "data": {
      "text/plain": [
       "126.21502118610957"
      ]
     },
     "execution_count": 147,
     "metadata": {},
     "output_type": "execute_result"
    }
   ],
   "source": [
    "pipeline.fit(train_data, train_labels)\n",
    "metrics.mean_absolute_error(test_labels, pipeline.predict(test_data))"
   ]
  },
  {
   "cell_type": "markdown",
   "metadata": {},
   "source": [
    "### Подбор параметров"
   ]
  },
  {
   "cell_type": "code",
   "execution_count": 150,
   "metadata": {
    "collapsed": false
   },
   "outputs": [
    {
     "data": {
      "text/plain": [
       "['warm_start',\n",
       " 'loss',\n",
       " 'eta0',\n",
       " 'verbose',\n",
       " 'shuffle',\n",
       " 'fit_intercept',\n",
       " 'l1_ratio',\n",
       " 'average',\n",
       " 'n_iter',\n",
       " 'penalty',\n",
       " 'power_t',\n",
       " 'random_state',\n",
       " 'epsilon',\n",
       " 'alpha',\n",
       " 'learning_rate']"
      ]
     },
     "execution_count": 150,
     "metadata": {},
     "output_type": "execute_result"
    }
   ],
   "source": [
    "regressor.get_params().keys()"
   ]
  },
  {
   "cell_type": "code",
   "execution_count": 151,
   "metadata": {
    "collapsed": false
   },
   "outputs": [
    {
     "data": {
      "text/plain": [
       "['regression__random_state',\n",
       " 'regression__n_iter',\n",
       " 'regression__epsilon',\n",
       " 'regression__power_t',\n",
       " 'regression__alpha',\n",
       " 'regression__eta0',\n",
       " 'regression__loss',\n",
       " 'scaling',\n",
       " 'steps',\n",
       " 'scaling__copy',\n",
       " 'regression__fit_intercept',\n",
       " 'regression__warm_start',\n",
       " 'regression__penalty',\n",
       " 'regression__learning_rate',\n",
       " 'regression__average',\n",
       " 'regression__verbose',\n",
       " 'regression__shuffle',\n",
       " 'regression__l1_ratio',\n",
       " 'regression',\n",
       " 'scaling__with_std',\n",
       " 'scaling__with_mean']"
      ]
     },
     "execution_count": 151,
     "metadata": {},
     "output_type": "execute_result"
    }
   ],
   "source": [
    "pipeline.get_params().keys()"
   ]
  },
  {
   "cell_type": "code",
   "execution_count": 152,
   "metadata": {
    "collapsed": false
   },
   "outputs": [],
   "source": [
    "parameters_grid = {\n",
    "    'regression__loss' : ['huber', 'epsilon_insensitive', 'squared_loss', ],\n",
    "    'regression__n_iter' : [3, 5, 10, 50], \n",
    "    'regression__penalty' : ['l1', 'l2', 'none'],\n",
    "    'regression__alpha' : [0.0001, 0.01],\n",
    "    'scaling__with_mean' : [0, 1],\n",
    "}"
   ]
  },
  {
   "cell_type": "code",
   "execution_count": 153,
   "metadata": {
    "collapsed": false
   },
   "outputs": [],
   "source": [
    "grid_cv = grid_search.GridSearchCV(pipeline, parameters_grid, scoring = 'mean_absolute_error', cv = 4)"
   ]
  },
  {
   "cell_type": "code",
   "execution_count": 154,
   "metadata": {
    "collapsed": false,
    "scrolled": true
   },
   "outputs": [
    {
     "name": "stdout",
     "output_type": "stream",
     "text": [
      "CPU times: user 31.1 s, sys: 419 ms, total: 31.5 s\n",
      "Wall time: 16.7 s\n"
     ]
    },
    {
     "data": {
      "text/plain": [
       "GridSearchCV(cv=4, error_score='raise',\n",
       "       estimator=Pipeline(steps=[('scaling', StandardScaler(copy=True, with_mean=True, with_std=True)), ('regression', SGDRegressor(alpha=0.0001, average=False, epsilon=0.1, eta0=0.01,\n",
       "       fit_intercept=True, l1_ratio=0.15, learning_rate='invscaling',\n",
       "       loss='squared_loss', n_iter=5, penalty='l2', power_t=0.25,\n",
       "       random_state=0, shuffle=True, verbose=0, warm_start=False))]),\n",
       "       fit_params={}, iid=True, n_jobs=1,\n",
       "       param_grid={'regression__n_iter': [3, 5, 10, 50], 'regression__loss': ['huber', 'epsilon_insensitive', 'squared_loss'], 'scaling__with_mean': [0, 1], 'regression__alpha': [0.0001, 0.01], 'regression__penalty': ['l1', 'l2', 'none']},\n",
       "       pre_dispatch='2*n_jobs', refit=True, scoring='mean_absolute_error',\n",
       "       verbose=0)"
      ]
     },
     "execution_count": 154,
     "metadata": {},
     "output_type": "execute_result"
    }
   ],
   "source": [
    "%%time\n",
    "grid_cv.fit(train_data, train_labels)"
   ]
  },
  {
   "cell_type": "code",
   "execution_count": 155,
   "metadata": {
    "collapsed": false
   },
   "outputs": [
    {
     "name": "stdout",
     "output_type": "stream",
     "text": [
      "-108.393209497\n",
      "{'regression__n_iter': 3, 'regression__loss': 'squared_loss', 'scaling__with_mean': 1, 'regression__alpha': 0.01, 'regression__penalty': 'l2'}\n"
     ]
    }
   ],
   "source": [
    "print grid_cv.best_score_\n",
    "print grid_cv.best_params_"
   ]
  },
  {
   "cell_type": "markdown",
   "metadata": {},
   "source": [
    "### Оценка по отложенному тесту"
   ]
  },
  {
   "cell_type": "code",
   "execution_count": 156,
   "metadata": {
    "collapsed": false
   },
   "outputs": [
    {
     "data": {
      "text/plain": [
       "127.0944947298287"
      ]
     },
     "execution_count": 156,
     "metadata": {},
     "output_type": "execute_result"
    }
   ],
   "source": [
    "metrics.mean_absolute_error(test_labels, grid_cv.best_estimator_.predict(test_data))"
   ]
  },
  {
   "cell_type": "code",
   "execution_count": 157,
   "metadata": {
    "collapsed": false
   },
   "outputs": [
    {
     "data": {
      "text/plain": [
       "232.15899999999999"
      ]
     },
     "execution_count": 157,
     "metadata": {},
     "output_type": "execute_result"
    }
   ],
   "source": [
    "np.mean(test_labels)"
   ]
  },
  {
   "cell_type": "code",
   "execution_count": null,
   "metadata": {
    "collapsed": true
   },
   "outputs": [],
   "source": []
  },
  {
   "cell_type": "code",
   "execution_count": 126,
   "metadata": {
    "collapsed": false
   },
   "outputs": [
    {
     "data": {
      "text/plain": [
       "array([[-0.44588732, -0.34641391,  0.27938212, -0.83164209, -0.33006375,\n",
       "         2.39357866,  1.23027756, -0.65624846,  1.10209153],\n",
       "       [-0.34228082, -0.25816179,  0.02164896, -1.55987276, -0.03512814,\n",
       "         4.38643891,  1.23027756, -0.51166671,  1.10209153]])"
      ]
     },
     "execution_count": 126,
     "metadata": {},
     "output_type": "execute_result"
    }
   ],
   "source": [
    "scaled_test_data[:2]"
   ]
  },
  {
   "cell_type": "code",
   "execution_count": 159,
   "metadata": {
    "collapsed": true
   },
   "outputs": [
    {
     "data": {
      "text/plain": [
       "[(525, 199.66088809956213),\n",
       " (835, 218.86729741125811),\n",
       " (355, 263.5221598375972),\n",
       " (222, 292.49984066506136),\n",
       " (228, 312.31750998614001),\n",
       " (325, 320.79172292662093),\n",
       " (328, 325.93313272975058),\n",
       " (308, 350.03162854742959),\n",
       " (346, 356.37237377232867),\n",
       " (446, 365.80850113749534),\n",
       " (943, 363.50231498276571),\n",
       " (838, 357.50337774382263),\n",
       " (531, 338.90077766032113),\n",
       " (432, 325.68247039284728),\n",
       " (195, 315.70470512502129),\n",
       " (181, 293.71762592973255),\n",
       " (199, 296.7993405556694),\n",
       " (49, 115.04923132249577),\n",
       " (17, 122.25033630281814),\n",
       " (16, 129.4514412831405),\n",
       " (7, 107.66119792166801),\n",
       " (4, 129.20599337100887),\n",
       " (41, 134.94756056842397),\n",
       " (178, 145.37170851831874),\n",
       " (464, 151.49434085974769),\n",
       " (817, 178.04597194574114),\n",
       " (382, 188.47011989563592),\n",
       " (228, 227.90311521740108),\n",
       " (234, 284.33965357966304),\n",
       " (332, 306.80049595644363),\n",
       " (310, 315.86748030699283),\n",
       " (270, 342.69780235343842),\n",
       " (301, 358.03153583939172),\n",
       " (466, 339.1438483804597),\n",
       " (888, 328.27032366560911),\n",
       " (884, 326.38617924717391),\n",
       " (516, 301.65378438913217),\n",
       " (414, 306.11016164449006),\n",
       " (329, 283.82410400833413),\n",
       " (215, 280.88578402750971),\n",
       " (99, 286.71682391228865),\n",
       " (57, 119.71674673545311),\n",
       " (14, 141.1766670313078),\n",
       " (14, 147.00310938220909),\n",
       " (5, 137.32432255525035),\n",
       " (5, 144.5254275355727),\n",
       " (42, 164.61068520200632),\n",
       " (153, 162.35739776895363),\n",
       " (508, 167.49880757208322),\n",
       " (834, 192.9544669891078),\n",
       " (387, 217.53587558527235),\n",
       " (218, 252.19583810039251),\n",
       " (268, 295.92355098419478),\n",
       " (377, 332.29951216013558),\n",
       " (332, 347.03308825180329),\n",
       " (285, 357.93154185021683),\n",
       " (353, 333.48423436760561),\n",
       " (450, 356.03651836779045),\n",
       " (890, 332.14363430080431),\n",
       " (788, 333.95683850046021),\n",
       " (513, 331.1938457272874),\n",
       " (387, 336.33525553041699),\n",
       " (283, 316.09500200601707),\n",
       " (229, 310.41195430022822),\n",
       " (117, 308.69384355788549),\n",
       " (56, 153.24325366321915),\n",
       " (16, 139.53274008570062),\n",
       " (10, 146.73384506602301),\n",
       " (5, 170.04214570202902),\n",
       " (6, 177.24325068235137),\n",
       " (36, 168.3371600069901),\n",
       " (131, 170.20326292832294),\n",
       " (154, 169.85521728152361),\n",
       " (467, 181.86074516400322),\n",
       " (389, 189.06185014432558),\n",
       " (224, 224.02020316252444),\n",
       " (252, 247.32850379853045),\n",
       " (332, 299.38544944526905),\n",
       " (375, 292.60921852085085),\n",
       " (365, 337.70699650019651),\n",
       " (395, 333.00795978304654),\n",
       " (565, 331.63630915507099),\n",
       " (425, 338.83741413539337),\n",
       " (233, 282.86314330902178),\n",
       " (232, 276.701780358625),\n",
       " (229, 303.50599624502826),\n",
       " (206, 296.3999847220191),\n",
       " (190, 307.72048005672696),\n",
       " (131, 281.22736846235978),\n",
       " (60, 158.79886310852706),\n",
       " (30, 111.9038382964391),\n",
       " (20, 145.17163915206265),\n",
       " (15, 165.83758624666592),\n",
       " (10, 163.59168479783045),\n",
       " (40, 169.50300230221794),\n",
       " (148, 188.81556381705408),\n",
       " (420, 209.99400470211708),\n",
       " (680, 221.89994685137452),\n",
       " (331, 224.2938404792001),\n",
       " (146, 222.23059083353488),\n",
       " (170, 229.43169581385726),\n",
       " (221, 245.93534356210816),\n",
       " (248, 267.11378444717116),\n",
       " (185, 294.23848740060629),\n",
       " (214, 290.10542953189002),\n",
       " (344, 297.30653451221241),\n",
       " (689, 315.84180234157338),\n",
       " (678, 320.29817959693128),\n",
       " (452, 327.49928457725366),\n",
       " (296, 324.83784647334335),\n",
       " (267, 326.54949600373675),\n",
       " (202, 318.01057940695262),\n",
       " (120, 319.82378360660857),\n",
       " (50, 154.19836905919405),\n",
       " (24, 136.70284325975859),\n",
       " (10, 143.90394824008098),\n",
       " (3, 137.12771731566275),\n",
       " (7, 144.24394714249891),\n",
       " (26, 165.50726318104807),\n",
       " (122, 158.73103225662985),\n",
       " (357, 164.55747460753116),\n",
       " (687, 206.33443296762036),\n",
       " (382, 227.51287385268333),\n",
       " (204, 272.06536209546073),\n",
       " (221, 306.25101896206212),\n",
       " (292, 310.70739621742001),\n",
       " (294, 308.24338188511433),\n",
       " (262, 328.06105120619299),\n",
       " (306, 331.83239591377918),\n",
       " (421, 329.53080729292725),\n",
       " (638, 336.73191227324958),\n",
       " (522, 337.49094091051637),\n",
       " (374, 343.31738326141772),\n",
       " (221, 336.23340691366315),\n",
       " (156, 340.68978416902104),\n",
       " (149, 343.08646624718619),\n",
       " (119, 329.28550061550231),\n",
       " (108, 162.78780418326821),\n",
       " (89, 180.82528880190546),\n",
       " (46, 187.25188854709225),\n",
       " (28, 194.45299352741461),\n",
       " (16, 198.3258929042633),\n",
       " (9, 203.46730270739292),\n",
       " (21, 210.58353253422908),\n",
       " (59, 217.86951266803766),\n",
       " (142, 236.30043737779658),\n",
       " (219, 237.05946601506332),\n",
       " (328, 262.85229201489608),\n",
       " (340, 270.05339699521841),\n",
       " (394, 278.04190870687421),\n",
       " (449, 283.08094432644208),\n",
       " (455, 280.32254908714685),\n",
       " (448, 298.96019110006961),\n",
       " (400, 303.31419417186578),\n",
       " (410, 309.14063652276707),\n",
       " (297, 315.65670895531775),\n",
       " (239, 311.43877593311532),\n",
       " (181, 305.43524116029454),\n",
       " (166, 313.92613361655174),\n",
       " (146, 307.14990269213354),\n",
       " (148, 314.35100767245592),\n",
       " (102, 134.76575625037631),\n",
       " (165, 87.576350531298786),\n",
       " (37, 138.41646172619238),\n",
       " (11, 148.33881686927424),\n",
       " (9, 142.93265104039938),\n",
       " (5, 148.76369092517837),\n",
       " (16, 171.31219690578473),\n",
       " (50, 163.16590088582311),\n",
       " (149, 201.82160252211312),\n",
       " (217, 217.32055016985964),\n",
       " (360, 244.75835420610946),\n",
       " (445, 275.83670680304692),\n",
       " (504, 283.03781178336931),\n",
       " (493, 302.06889388741371),\n",
       " (509, 314.33741258137064),\n",
       " (449, 322.91318019111407),\n",
       " (435, 334.91870807359368),\n",
       " (327, 313.43814253514375),\n",
       " (237, 322.01391014488718),\n",
       " (227, 327.92522764927469),\n",
       " (141, 305.05651164890878),\n",
       " (87, 306.27234690461876),\n",
       " (79, 315.44827190864771),\n",
       " (53, 311.21283985636973),\n",
       " (23, 144.31513686309589),\n",
       " (8, 152.78853028927759),\n",
       " (6, 159.98963526959997),\n",
       " (4, 167.29311443348405),\n",
       " (16, 184.45371963342399),\n",
       " (39, 192.42932984888193),\n",
       " (139, 206.67266856654541),\n",
       " (461, 212.49911091744673),\n",
       " (648, 218.33015080222569),\n",
       " (257, 221.83390716445689),\n",
       " (142, 240.84749023842582),\n",
       " (150, 257.13384461750582),\n",
       " (244, 280.95185059363195),\n",
       " (222, 291.16067411039609),\n",
       " (196, 307.57944670516082),\n",
       " (231, 320.27000713541213),\n",
       " (360, 307.69657533772863),\n",
       " (638, 300.34047449944001),\n",
       " (542, 307.54157947976239),\n",
       " (372, 302.82783218287648),\n",
       " (241, 311.48387741222848),\n",
       " (152, 308.24716692832533),\n",
       " (115, 297.35154564952154),\n",
       " (53, 290.49043957161712),\n",
       " (19, 118.12455817806831),\n",
       " (8, 125.41053831187686),\n",
       " (2, 121.10494168584862),\n",
       " (4, 125.75053721429481),\n",
       " (7, 124.189668313231),\n",
       " (41, 141.62518645404464),\n",
       " (149, 135.34476980430983),\n",
       " (387, 138.53263663338683),\n",
       " (588, 151.12164239437564),\n",
       " (363, 188.40727893512226),\n",
       " (230, 231.35769813344936),\n",
       " (216, 255.07611837635335),\n",
       " (248, 262.27722335667573),\n",
       " (278, 270.05901776516771),\n",
       " (240, 296.80446465812713),\n",
       " (272, 287.30832963433869),\n",
       " (402, 293.0369953355559),\n",
       " (627, 279.92106225164378),\n",
       " (497, 281.96249238062813),\n",
       " (371, 282.51079411864197),\n",
       " (228, 278.97510519387163),\n",
       " (151, 298.28306917483008),\n",
       " (153, 304.11410905960906),\n",
       " (205, 311.31521403993145),\n",
       " (283, 148.43452721748142),\n",
       " (92, 138.13627488262355),\n",
       " (74, 155.49151540382866),\n",
       " (11, 172.65671813764627),\n",
       " (9, 178.48316048854755),\n",
       " (27, 187.05892809829101),\n",
       " (118, 178.22300199667998),\n",
       " (319, 183.46678598337132),\n",
       " (601, 184.03577683325059),\n",
       " (368, 191.23688181357295),\n",
       " (178, 213.10035524640762),\n",
       " (147, 244.54128438804452),\n",
       " (212, 246.6602650749964),\n",
       " (181, 252.48670742589769),\n",
       " (161, 261.84988176697453),\n",
       " (198, 268.9486125637352),\n",
       " (273, 276.2520917276193),\n",
       " (517, 284.82785933736272),\n",
       " (465, 290.65430168826401),\n",
       " (319, 283.28070181989989),\n",
       " (256, 314.91823521884226),\n",
       " (126, 320.7446775697436),\n",
       " (60, 305.48417415515246),\n",
       " (40, 286.60108423009814),\n",
       " (15, 129.56510480675777),\n",
       " (12, 164.99497502313585),\n",
       " (6, 175.12352092029147),\n",
       " (10, 200.85989372997486),\n",
       " (35, 211.75834732838837),\n",
       " (124, 225.40152865176637),\n",
       " (423, 238.56360628019686),\n",
       " (668, 255.43261902348684),\n",
       " (275, 273.08625004777065),\n",
       " (161, 281.55964347395235),\n",
       " (171, 306.5584962725336),\n",
       " (235, 348.0165817418449),\n",
       " (228, 375.43038166679975),\n",
       " (182, 382.63148664712207),\n",
       " (233, 389.83259162744446),\n",
       " (339, 394.5704482935941),\n",
       " (592, 383.69232604486581),\n",
       " (507, 387.7934513510429),\n",
       " (373, 380.41985148267884),\n",
       " (245, 388.13066180312131),\n",
       " (233, 361.39067582760902),\n",
       " (161, 345.70534222638389),\n",
       " (87, 347.06173980759661),\n",
       " (55, 173.62418382158307),\n",
       " (20, 167.44811029145032),\n",
       " (12, 173.27455264235164),\n",
       " (9, 185.38245470839297),\n",
       " (14, 189.83883196375086),\n",
       " (27, 180.32066176470772),\n",
       " (131, 155.96479590550072),\n",
       " (341, 164.5359659813665),\n",
       " (693, 206.43680715118208),\n",
       " (327, 233.95948634091809),\n",
       " (197, 251.5181291658574),\n",
       " (251, 282.50700907543097),\n",
       " (262, 314.72523190254304),\n",
       " (299, 332.36415234709091),\n",
       " (274, 334.76083442525601),\n",
       " (356, 347.63131959703657),\n",
       " (434, 347.79297929035738),\n",
       " (654, 329.97696642389008),\n",
       " (496, 335.80800630866901),\n",
       " (361, 260.18643304980156),\n",
       " (255, 282.90747778771993),\n",
       " (199, 262.37481229237079),\n",
       " (163, 282.47478053854036),\n",
       " (162, 262.12936438023917),\n",
       " (122, 107.24074373791741),\n",
       " (76, 98.334653062556143),\n",
       " (44, 109.44662201056217),\n",
       " (20, 111.25982621021809),\n",
       " (6, 94.320692762448076),\n",
       " (10, 107.40748173416067),\n",
       " (16, 89.783315738618924),\n",
       " (71, 115.92400770341519),\n",
       " (146, 163.3900457975891),\n",
       " (259, 206.44005072913833),\n",
       " (350, 237.96131887908231),\n",
       " (466, 249.9668467615619),\n",
       " (606, 295.35372171242722),\n",
       " (651, 332.63935825317384),\n",
       " (627, 349.52308157619973),\n",
       " (567, 334.15741552770731),\n",
       " (605, 363.9252915368445),\n",
       " (501, 352.09094043035071),\n",
       " (359, 321.09238437469344),\n",
       " (283, 338.05086980534725),\n",
       " (192, 329.32010633763753),\n",
       " (220, 299.99460341448003),\n",
       " (193, 295.19040406342879),\n",
       " (146, 295.04628726945367),\n",
       " (124, 101.89185061349114),\n",
       " (108, 119.82974949890621),\n",
       " (70, 98.70703965512989),\n",
       " (48, 122.01812874147546),\n",
       " (11, 125.99340230188588),\n",
       " (12, 113.65016536957121),\n",
       " (19, 121.45602527805674),\n",
       " (68, 124.36241269634203),\n",
       " (119, 141.9136695370641),\n",
       " (273, 179.2020945281503),\n",
       " (405, 219.14479519003558),\n",
       " (504, 265.31825735793507),\n",
       " (585, 304.84351381740368),\n",
       " (686, 329.94752924988626),\n",
       " (654, 392.39478383500591),\n",
       " (724, 372.3884666591992),\n",
       " (653, 363.48237598383793),\n",
       " (493, 361.49667689614023),\n",
       " (405, 361.93521846637509),\n",
       " (277, 336.90443310525461),\n",
       " (200, 319.69038671661093),\n",
       " (171, 318.89942551680502),\n",
       " (134, 310.74853196296573),\n",
       " (109, 317.94963694328811),\n",
       " (49, 148.20942957536573),\n",
       " (30, 142.04806662496892),\n",
       " (20, 147.87450897587024),\n",
       " (4, 155.0756139561926),\n",
       " (4, 160.22162129319989),\n",
       " (24, 134.29448854726633),\n",
       " (71, 146.30001642974594),\n",
       " (264, 154.08459928857749),\n",
       " (540, 184.94205055170522),\n",
       " (397, 181.90217590161831),\n",
       " (266, 226.22725772936647),\n",
       " (367, 254.92345914603891),\n",
       " (419, 292.80646463073145),\n",
       " (420, 327.3173659507446),\n",
       " (444, 323.93073822108124),\n",
       " (382, 315.77984466724195),\n",
       " (434, 318.8661568270565),\n",
       " (596, 331.55671725730781),\n",
       " (551, 303.95653137887444),\n",
       " (353, 321.26229643819471),\n",
       " (304, 314.48606551377645),\n",
       " (155, 332.91977867387499),\n",
       " (112, 327.51361284500013),\n",
       " (63, 338.73255351044554),\n",
       " (23, 157.57981322121782),\n",
       " (5, 148.99588558371954),\n",
       " (11, 117.3041163341186),\n",
       " (5, 123.0281845014582),\n",
       " (9, 144.48810479731287),\n",
       " (18, 128.63023243877583),\n",
       " (50, 148.91941895803367),\n",
       " (107, 136.26987898933305),\n",
       " (211, 143.47098396965544),\n",
       " (110, 166.99059944270289),\n",
       " (94, 181.79033051203177),\n",
       " (155, 201.57939818793776),\n",
       " (196, 234.86929560751452),\n",
       " (218, 257.87460820656418),\n",
       " (203, 304.98917237113574),\n",
       " (217, 326.34294046385025),\n",
       " (310, 328.15614466350621),\n",
       " (608, 297.41303358260677),\n",
       " (559, 303.84423086167124),\n",
       " (356, 306.44484179266055),\n",
       " (223, 308.25804599231651),\n",
       " (187, 315.45915097263889),\n",
       " (135, 292.8580233176279),\n",
       " (84, 298.68446566852924),\n",
       " (24, 135.01637211474576),\n",
       " (12, 126.28282019669649),\n",
       " (1, 133.48392517701885),\n",
       " (5, 129.17832855099061),\n",
       " (6, 123.68728756862957),\n",
       " (39, 130.88839254895194),\n",
       " (146, 149.40698086253664),\n",
       " (415, 158.06762362576629),\n",
       " (691, 198.69814528576288),\n",
       " (332, 223.97847749513588),\n",
       " (171, 250.22433209383343),\n",
       " (151, 246.67393258932714),\n",
       " (240, 256.68342478714476),\n",
       " (214, 284.7185977673405),\n",
       " (181, 289.09009986921217),\n",
       " (260, 300.4954703574063),\n",
       " (321, 292.95212018206973),\n",
       " (583, 289.7956873177751),\n",
       " (567, 287.03729207847994),\n",
       " (396, 290.9978550591544),\n",
       " (267, 297.42905233821887),\n",
       " (213, 294.56368538148428),\n",
       " (173, 285.65759470612301),\n",
       " (87, 260.98659743936253),\n",
       " (34, 113.2559492342903),\n",
       " (16, 119.95927100388889),\n",
       " (7, 116.52595626268027),\n",
       " (2, 125.59950708314749),\n",
       " (5, 148.32055182106583),\n",
       " (37, 170.95853048903606),\n",
       " (147, 170.94026544082769),\n",
       " (410, 175.39664269618558),\n",
       " (646, 192.56184543000319),\n",
       " (323, 206.41854210297367),\n",
       " (153, 202.78047899464161),\n",
       " (166, 223.44642608924488),\n",
       " (213, 235.1603615150745),\n",
       " (217, 267.57059106561439),\n",
       " (201, 277.51642377090121),\n",
       " (217, 276.12809362714944),\n",
       " (342, 276.17401462056182),\n",
       " (563, 284.74978223030524),\n",
       " (573, 290.57622458120653),\n",
       " (386, 281.05526593182384),\n",
       " (285, 289.54615838808104),\n",
       " (224, 280.62256868264427),\n",
       " (153, 287.92604784652838),\n",
       " (125, 305.86394673194343),\n",
       " (65, 129.39936409587452),\n",
       " (21, 132.69239355885281),\n",
       " (9, 129.92661233534037),\n",
       " (6, 146.48984859133441),\n",
       " (5, 154.98074104759164),\n",
       " (36, 161.49681348014229),\n",
       " (130, 177.28735358453883),\n",
       " (367, 185.25836626611911),\n",
       " (711, 207.70449806316375),\n",
       " (351, 227.51287385268333),\n",
       " (198, 236.1689190820353),\n",
       " (218, 282.27878314610257),\n",
       " (290, 297.61251663205582),\n",
       " (278, 316.80142691367632),\n",
       " (251, 326.32981541654641),\n",
       " (267, 328.4589091493566),\n",
       " (383, 348.96620855208459),\n",
       " (580, 306.99606619208816),\n",
       " (505, 292.40769382907087),\n",
       " (332, 322.77293878215391),\n",
       " (227, 328.68425628654143),\n",
       " (178, 323.97050898965551),\n",
       " (162, 317.29665224879903),\n",
       " (128, 323.12769213357797),\n",
       " (106, 154.17686043302939),\n",
       " (87, 132.1685041880867),\n",
       " (49, 128.63281526331639),\n",
       " (21, 135.83392024363874),\n",
       " (7, 124.26797699679921),\n",
       " (11, 132.74137042298091),\n",
       " (21, 140.04484958686501),\n",
       " (78, 145.8712919377663),\n",
       " (168, 173.21410777467165),\n",
       " (248, 236.28955831380543),\n",
       " (320, 256.67320648331776),\n",
       " (423, 280.90412051668147),\n",
       " (476, 298.56513752518254),\n",
       " (525, 319.54615463864076),\n",
       " (555, 324.00253189399865),\n",
       " (549, 342.45013611953391),\n",
       " (469, 330.11428517143645),\n",
       " (403, 329.18276164612791),\n",
       " (271, 304.13529676923122),\n",
       " (253, 298.83889110813533),\n",
       " (172, 278.12433193521667),\n",
       " (139, 299.94879771181115),\n",
       " (145, 307.14990269213354),\n",
       " (133, 281.06494176862395),\n",
       " (129, 115.52440237469564),\n",
       " (95, 121.45321890915865),\n",
       " (73, 98.190536268581027),\n",
       " (46, 113.5067707244588),\n",
       " (12, 119.4355872589218),\n",
       " (12, 121.16391630509153),\n",
       " (15, 127.07983134335672),\n",
       " (42, 135.65100141922247),\n",
       " (119, 163.86888759128701),\n",
       " (204, 187.17718822729302),\n",
       " (329, 207.75547171807051),\n",
       " (359, 244.22369403171473),\n",
       " (442, 256.81269979270354),\n",
       " (447, 266.07349995021866),\n",
       " (428, 271.89994230111995),\n",
       " (407, 300.96528673240988),\n",
       " (372, 287.67681489118576),\n",
       " (280, 277.46622616015372),\n",
       " (276, 272.62465818146075),\n",
       " (210, 277.08103543681864),\n",
       " (129, 284.28214041714102),\n",
       " (110, 292.93818564649297),\n",
       " (74, 300.13929062681535),\n",
       " (59, 308.63018308307255),\n",
       " (27, 143.00476853565809),\n",
       " (19, 150.20587351598044),\n",
       " (5, 156.11719102036795),\n",
       " (2, 164.60808347662518),\n",
       " (12, 171.80918845694757),\n",
       " (39, 179.01029343726992),\n",
       " (131, 184.92161094165743),\n",
       " (386, 194.18241109917258),\n",
       " (663, 201.38351607949494),\n",
       " (278, 206.52492588262456),\n",
       " (139, 213.72603086294691),\n",
       " (197, 234.25959627821948),\n",
       " (242, 256.81269979270354),\n",
       " (251, 290.5763149230105),\n",
       " (217, 297.77741990333288),\n",
       " (257, 302.23379715869078),\n",
       " (380, 298.20229395923707),\n",
       " (619, 302.65867121459496),\n",
       " (580, 307.23410216929085),\n",
       " (406, 315.80986977903427),\n",
       " (259, 307.65897622519498),\n",
       " (203, 330.66888635812228),\n",
       " (113, 293.21157444363308),\n",
       " (74, 300.41267942395547),\n",
       " (108, 85.758887652356279),\n",
       " (69, 92.959992632678663),\n",
       " (50, 100.16109761300102),\n",
       " (15, 108.23448447814302),\n",
       " (5, 116.04034438662855),\n",
       " (13, 102.32704235877047),\n",
       " (27, 108.92339241092968),\n",
       " (63, 116.12449739125205),\n",
       " (144, 123.32560237157442),\n",
       " (193, 125.86005832490267),\n",
       " (256, 145.56605993086052),\n",
       " (392, 193.99860998359785),\n",
       " (446, 189.77788851105578),\n",
       " (509, 211.62665136415453),\n",
       " (479, 234.95245103023603),\n",
       " (484, 272.23808757098266),\n",
       " (443, 265.46185664656446),\n",
       " (320, 242.59314064619849),\n",
       " (297, 247.63217626576636),\n",
       " (249, 238.72608559040509),\n",
       " (198, 245.92719057072748),\n",
       " (158, 234.85624208427214),\n",
       " (147, 242.05734706459452),\n",
       " (126, 267.53050551169457),\n",
       " (117, 85.110074310485189),\n",
       " (94, 92.311179290807573),\n",
       " (74, 98.03524745814714),\n",
       " (25, 81.593897221100903),\n",
       " (7, 88.795002201423259),\n",
       " (8, 95.996107181745643),\n",
       " (16, 96.039239724818444),\n",
       " (31, 103.24034470514083),\n",
       " (93, 119.07645893569553),\n",
       " (172, 129.77551982646398),\n",
       " (293, 155.64408730072608),\n",
       " (355, 183.36419026206684),\n",
       " (520, 195.93569699298013),\n",
       " (431, 248.80352693325722),\n",
       " (473, 287.45922856954724),\n",
       " (417, 278.43408419484797),\n",
       " (443, 284.26512407962696),\n",
       " (303, 265.49649032003288),\n",
       " (203, 287.93054013517894),\n",
       " (174, 267.01454759456641),\n",
       " (154, 279.58605432547972),\n",
       " (99, 304.2865166209823),\n",
       " (96, 310.11295897188359),\n",
       " (51, 298.44464154148233),\n",
       " (21, 134.1938896234889),\n",
       " (13, 134.64993022379929),\n",
       " (10, 159.33289348922636),\n",
       " (8, 126.75295750098425),\n",
       " (5, 115.69950804460444),\n",
       " (38, 118.98974905724316),\n",
       " (138, 130.10171800524918),\n",
       " (396, 131.91492220490511),\n",
       " (731, 144.50392796589392),\n",
       " (308, 179.46687851797043),\n",
       " (136, 220.95497148305068),\n",
       " (233, 238.91437899463045),\n",
       " (268, 277.57467816479812),\n",
       " (321, 323.26053155653062),\n",
       " (260, 348.75913650187601),\n",
       " (268, 349.51816513914275),\n",
       " (442, 369.33583446022141),\n",
       " (708, 321.57226924653821),\n",
       " (692, 311.96364699332969),\n",
       " (471, 319.16475197365207),\n",
       " (300, 292.16193503916469),\n",
       " (221, 292.17506008646853),\n",
       " (144, 289.8734714656166),\n",
       " (102, 297.07457644593893),\n",
       " (55, 118.5650092124132),\n",
       " (25, 138.65026687884682),\n",
       " (8, 132.28218662528622),\n",
       " (4, 138.3153462793513),\n",
       " (7, 145.51645125967369),\n",
       " (46, 155.15401199253424),\n",
       " (153, 130.10171800524918),\n",
       " (502, 170.34280917021317),\n",
       " (721, 184.30647756062305),\n",
       " (336, 207.01740925268314),\n",
       " (156, 218.33330705351338),\n",
       " (207, 241.65910671959492),\n",
       " (312, 278.94474326034151),\n",
       " (272, 298.75311904986108),\n",
       " (270, 336.63612453455363),\n",
       " (300, 376.2136200539021),\n",
       " (435, 368.81457368729264),\n",
       " (743, 335.6511598205413),\n",
       " (731, 328.87492889612304),\n",
       " (460, 322.11619700178034),\n",
       " (306, 343.27713885676781),\n",
       " (280, 351.84830893263359),\n",
       " (181, 361.10910909014871),\n",
       " (96, 352.29068201861321),\n",
       " (37, 210.58920209935906),\n",
       " (11, 233.82733816161482),\n",
       " (9, 191.56478383066914),\n",
       " (7, 202.77912696223689),\n",
       " (10, 238.35333752369607),\n",
       " (49, 246.59472700097089),\n",
       " (124, 261.81928825693376),\n",
       " (398, 250.92366697812997),\n",
       " (759, 254.21669644110824),\n",
       " (388, 273.70458516359594),\n",
       " (141, 295.6696132656931),\n",
       " (172, 305.88303431633494),\n",
       " (232, 319.52621563971292),\n",
       " (214, 332.09772237062623),\n",
       " (218, 371.46984665020022),\n",
       " (285, 369.06670336008574),\n",
       " (377, 370.8799075597417),\n",
       " (605, 368.41589322743607),\n",
       " (609, 377.77824805421369),\n",
       " (414, 352.92278990074482),\n",
       " (293, 333.69376641041322),\n",
       " (198, 342.264936486279),\n",
       " (105, 344.87293340148557),\n",
       " (74, 338.09670247706731),\n",
       " (44, 159.05592127725677),\n",
       " (16, 166.25702625757913),\n",
       " (9, 156.83844179175813),\n",
       " (2, 153.40988443692945),\n",
       " (9, 162.75555974793079),\n",
       " (32, 169.27163218048148),\n",
       " (124, 177.15776970857553),\n",
       " (389, 192.94830981297207),\n",
       " (659, 200.14941479329443),\n",
       " (276, 214.37607399518163),\n",
       " (145, 212.98774385142983),\n",
       " (178, 235.43847318235217),\n",
       " (235, 263.45439943763279),\n",
       " (245, 280.32062373058318),\n",
       " (212, 282.55668918083273),\n",
       " (270, 300.11073447189438),\n",
       " (331, 300.86976310916111),\n",
       " (617, 298.40296032651594),\n",
       " (565, 297.65868613825535),\n",
       " (373, 268.64907274825202),\n",
       " (227, 269.00733669887836),\n",
       " (191, 274.91865420326587),\n",
       " (133, 272.75762790791657),\n",
       " (93, 279.95873288823896),\n",
       " (48, 103.51164928224556),\n",
       " (28, 109.52534097019476),\n",
       " (11, 124.65432608902461),\n",
       " (5, 108.33685866170474),\n",
       " (10, 126.94967704903324),\n",
       " (26, 121.26662934324436),\n",
       " (84, 146.82466294383062),\n",
       " (215, 141.14161523804174),\n",
       " (441, 167.98483878068521),\n",
       " (301, 162.19941689133461),\n",
       " (166, 186.89987918683718),\n",
       " (203, 195.47104926270296),\n",
       " (240, 218.77934989870894),\n",
       " (220, 239.36042183982602),\n",
       " (215, 237.19939554447674),\n",
       " (303, 244.4005005247991),\n",
       " (375, 239.49014897060772),\n",
       " (568, 272.66296162688678),\n",
       " (498, 273.93169560427367),\n",
       " (352, 265.5915837773461),\n",
       " (241, 277.59711165982571),\n",
       " (171, 240.2628630407637),\n",
       " (165, 246.77893547331433),\n",
       " (122, 253.98004045363672),\n",
       " (103, 88.354625906222239),\n",
       " (100, 94.968474988456975),\n",
       " (70, 102.16957996877933),\n",
       " (29, 110.64297339496106),\n",
       " (12, 115.69950804460444),\n",
       " (6, 125.04518335560579),\n",
       " (20, 132.24628833592814),\n",
       " (39, 123.73084930134902),\n",
       " (111, 151.84636128985184),\n",
       " (170, 154.92807591578867),\n",
       " (287, 188.72308114160791),\n",
       " (404, 194.55412102638687),\n",
       " (486, 207.24468145663818),\n",
       " (547, 211.70105871199607),\n",
       " (542, 224.39161914224738),\n",
       " (541, 242.21046432832446),\n",
       " (507, 249.41156930864682),\n",
       " (345, 233.74291522319805),\n",
       " (304, 244.96185588864347),\n",
       " (246, 247.35853796680857),\n",
       " (182, 215.88567626263256),\n",
       " (209, 223.08678124295494),\n",
       " (160, 253.34686356213672),\n",
       " (162, 261.13144642096825),\n",
       " (118, 116.71203133838421),\n",
       " (102, 122.54307122316318),\n",
       " (78, 129.74417620348555),\n",
       " (48, 136.94528118380791),\n",
       " (12, 129.11487469700049),\n",
       " (8, 151.34749114445265),\n",
       " (6, 143.51708465764523),\n",
       " (23, 171.23915655502631),\n",
       " (69, 175.69553381038423),\n",
       " (103, 187.01143161121448),\n",
       " (219, 195.5871992209579),\n",
       " (250, 203.47333674905198),\n",
       " (315, 221.41123563446706),\n",
       " (285, 211.8026133812586),\n",
       " (232, 214.88432800719539),\n",
       " (225, 197.15860734239121),\n",
       " (253, 204.35971232271356),\n",
       " (229, 210.18615467361488),\n",
       " (198, 217.97451555202488),\n",
       " (122, 231.0585160733979),\n",
       " (108, 217.34521404553982),\n",
       " (96, 225.2313515736339),\n",
       " (78, 247.46396802108606),\n",
       " (51, 238.94852898650694),\n",
       " (20, 73.323114439092436),\n",
       " (4, 79.064681636507558),\n",
       " (5, 109.32476395568933),\n",
       " (4, 116.52586893601172),\n",
       " (12, 123.72697391633407),\n",
       " (27, 130.92807889665644),\n",
       " (123, 140.87391160194326),\n",
       " (294, 152.18980940277351),\n",
       " (584, 157.26506422824198),\n",
       " (284, 163.09610411302094),\n",
       " (133, 188.56926256012102),\n",
       " (134, 201.14076929103433),\n",
       " (173, 190.08731983465449),\n",
       " (220, 197.28842481497688),\n",
       " (210, 233.50238676325878),\n",
       " (236, 252.99027548574648),\n",
       " (345, 255.29929396008583),\n",
       " (616, 278.24833305082194),\n",
       " (564, 267.1773845643666),\n",
       " (427, 314.14563944781679),\n",
       " (300, 280.20493189559033),\n",
       " (245, 271.77715646483693),\n",
       " (126, 316.87953197806024),\n",
       " (84, 301.80824683655743),\n",
       " (31, 169.41262468466135),\n",
       " (8, 178.05454727206589),\n",
       " (1, 185.13258895696109),\n",
       " (3, 150.08004973428865),\n",
       " (8, 151.91075296402008),\n",
       " (41, 169.24849445514968),\n",
       " (118, 175.07493680605097),\n",
       " (380, 198.50229114139498),\n",
       " (724, 210.95073457688113),\n",
       " (334, 222.27122991158902),\n",
       " (154, 243.34729661309029),\n",
       " (173, 260.50790181303023),\n",
       " (226, 269.18604360633537),\n",
       " (254, 288.51016055398014),\n",
       " (204, 295.71126553430253),\n",
       " (270, 302.91237051462491),\n",
       " (358, 310.11347549494724),\n",
       " (601, 286.78174116600644),\n",
       " (546, 293.98284614632882),\n",
       " (433, 301.18395112665121),\n",
       " (257, 308.38505610697354),\n",
       " (207, 316.87135102935315),\n",
       " (106, 310.97478797397173),\n",
       " (64, 326.76532807836827),\n",
       " (34, 161.03753934739206),\n",
       " (21, 143.62688870144282),\n",
       " (9, 158.82005986189344),\n",
       " (10, 153.32901887953238),\n",
       " (4, 159.65784197503513),\n",
       " (37, 167.83360302373885),\n",
       " (128, 175.11958315754742),\n",
       " (369, 182.23581298438359),\n",
       " (688, 177.33005896406985),\n",
       " (285, 199.77619076111452),\n",
       " (136, 224.4591540265416),\n",
       " (172, 252.16454640814638),\n",
       " (232, 277.43574493846256),\n",
       " (238, 284.63684991878495),\n",
       " (225, 283.24851977503317),\n",
       " (228, 292.61169411611002),\n",
       " (329, 298.52301162049753),\n",
       " (561, 286.78174116600644),\n",
       " (540, 302.57228127040298),\n",
       " (402, 289.37147303300463),\n",
       " (268, 307.90674086236561),\n",
       " (202, 313.73318321326695),\n",
       " (122, 319.56422309804589),\n",
       " (79, 312.78799217362769),\n",
       " (32, 155.75201275028732),\n",
       " (23, 163.0554919141714),\n",
       " (8, 154.9045983603321),\n",
       " (2, 163.48036597007555),\n",
       " (8, 169.22193316749065),\n",
       " (33, 175.05297305226961),\n",
       " (114, 183.70901828162161),\n",
       " (385, 175.58022129173546),\n",
       " (679, 181.40666364263677),\n",
       " (325, 221.93202266873206),\n",
       " (167, 256.29760427686267),\n",
       " (189, 273.95402375148603),\n",
       " (282, 290.82024804443643),\n",
       " (271, 310.82063055738382),\n",
       " (242, 316.65167044216275),\n",
       " (280, 322.4781127930641),\n",
       " (406, 314.8443105635622),\n",
       " (550, 310.21543842016246),\n",
       " (466, 317.41654340048484),\n",
       " (348, 312.89004544064687),\n",
       " (241, 317.84420590672858),\n",
       " (213, 313.23283279340433),\n",
       " (148, 290.75476843382057),\n",
       " (120, 296.47883660116014),\n",
       " (47, 112.98272121139691),\n",
       " (26, 109.44703228662654),\n",
       " (9, 115.17110045396613),\n",
       " (12, 116.50402047297383),\n",
       " (10, 110.13594021941323),\n",
       " (34, 130.90623043361856),\n",
       " (113, 101.06823372000134),\n",
       " (308, 136.20651147972939),\n",
       " (636, 151.82451282681396),\n",
       " (343, 156.29501272411929),\n",
       " (190, 158.74459352396133),\n",
       " (211, 216.43214328242865),\n",
       " (273, 269.26178508076475),\n",
       " (313, 277.83755269050823),\n",
       " (299, 314.75601515267772),\n",
       " (309, 311.99761991338249),\n",
       " (417, 300.14937774145204),\n",
       " (622, 283.47783263903699),\n",
       " (455, 318.31312236180872),\n",
       " (319, 305.69957002249799),\n",
       " (221, 292.38900161732067),\n",
       " (172, 262.87149197073535),\n",
       " (138, 261.95746747550231),\n",
       " (134, 271.11589344945571),\n",
       " (94, 120.13813677481761),\n",
       " (95, 94.437029445661452),\n",
       " (69, 100.16109761300102),\n",
       " (23, 101.99180084273247),\n",
       " (6, 95.810969926219784),\n",
       " (3, 134.64856524007936),\n",
       " (11, 136.47926846981082),\n",
       " (48, 142.4975576916377),\n",
       " (119, 157.72891699402928),\n",
       " (220, 162.95520195064509),\n",
       " (273, 219.1102609021153),\n",
       " (393, 230.91185993177069),\n",
       " (453, 275.13456757595713),\n",
       " (456, 281.29079052544938),\n",
       " (426, 298.35443859000452),\n",
       " (447, 309.8188710368517),\n",
       " (413, 311.38198592122819),\n",
       " (309, 322.70248125593605),\n",
       " (272, 304.5920874824792),\n",
       " (257, 291.15648684583442),\n",
       " (201, 311.83911345621397),\n",
       " (184, 305.55869680647913),\n",
       " (156, 315.50452951176601),\n",
       " (119, 319.9609067671239),\n",
       " (110, 153.46321033488977),\n",
       " (96, 127.37546096104059),\n",
       " (87, 110.27058680238729),\n",
       " (38, 119.61166457951096),\n",
       " (11, 123.19575995004924),\n",
       " (9, 130.39686493037161),\n",
       " (6, 137.59796991069396),\n",
       " (27, 146.27611170399913),\n",
       " (88, 158.2603625368248),\n",
       " (132, 165.46146751714716),\n",
       " (257, 172.66257249746954),\n",
       " (295, 179.8636774777919),\n",
       " (417, 211.21891195164338),\n",
       " (356, 231.304169618077),\n",
       " (310, 235.76054687343492),\n",
       " (338, 228.70743407210261),\n",
       " (400, 235.908539052425),\n",
       " (243, 243.10964403274738),\n",
       " (107, 250.31074901306974),\n",
       " (109, 224.58836463425962),\n",
       " (122, 259.90853607155725),\n",
       " (106, 238.11829271008472),\n",
       " (89, 288.6178625355335),\n",
       " (33, 253.3927845555491),\n",
       " (28, 105.14964256001714),\n",
       " (15, 117.15517044249675),\n",
       " (5, 104.52034105353211),\n",
       " (3, 108.49840306428207),\n",
       " (5, 100.66799657747465),\n",
       " (24, 141.15516746162899),\n",
       " (108, 130.9739998900688),\n",
       " (319, 138.17510487039118),\n",
       " (592, 167.56290530475334),\n",
       " (282, 175.3474881635849),\n",
       " (135, 181.28008271762636),\n",
       " (170, 193.86908847861517),\n",
       " (232, 196.95080310455199),\n",
       " (210, 210.326396082575),\n",
       " (181, 215.47240341958226),\n",
       " (211, 221.77716101509151),\n",
       " (302, 222.38765500634128),\n",
       " (495, 229.58875998666363),\n",
       " (507, 229.24531187374197),\n",
       " (340, 256.75606893408161),\n",
       " (200, 256.56247667822169),\n",
       " (120, 258.27412620861514),\n",
       " (54, 265.47523118893747),\n",
       " (47, 276.79572652364538),\n",
       " (18, 112.4388224025118),\n",
       " (15, 119.63992738283416),\n",
       " (7, 143.84457540365329),\n",
       " (5, 144.28311697388816),\n",
       " (8, 162.99830954477838),\n",
       " (36, 145.27455781601452),\n",
       " (118, 132.34866251948986),\n",
       " (355, 138.17510487039118),\n",
       " (662, 147.72697093546631),\n",
       " (326, 179.46687851797043),\n",
       " (184, 218.89987383973559),\n",
       " (269, 273.09679228327553),\n",
       " (313, 313.87834407441949),\n",
       " (286, 340.70866612086502),\n",
       " (247, 333.9638252919591),\n",
       " (246, 349.66210425865216),\n",
       " (363, 356.56481873589581),\n",
       " (572, 339.43843595107785),\n",
       " (525, 337.90954348182339),\n",
       " (353, 347.85537618711021),\n",
       " (268, 326.95550007682994),\n",
       " (168, 335.44639253308719),\n",
       " (132, 329.11307716167545),\n",
       " (81, 343.09342506786163),\n",
       " (41, 136.82201226258175),\n",
       " (15, 139.55307247321548),\n",
       " (3, 141.36627667287138),\n",
       " (5, 121.11863716425427),\n",
       " (7, 120.28948782250744),\n",
       " (31, 136.12560205306215),\n",
       " (112, 135.29645271131534),\n",
       " (363, 149.92305708554375),\n",
       " (678, 124.61538984750926),\n",
       " (317, 168.34310273131152),\n",
       " (164, 199.68165768938672),\n",
       " (200, 270.9064162499277),\n",
       " (236, 280.85224895521452),\n",
       " (213, 297.89380045581646),\n",
       " (218, 305.09490543613884),\n",
       " (237, 316.41540077084676),\n",
       " (334, 327.04626602390522),\n",
       " (562, 330.25163188305777),\n",
       " (569, 330.69017345329263),\n",
       " (336, 339.26594106303605),\n",
       " (241, 313.213776085635),\n",
       " (168, 303.79519161981403),\n",
       " (129, 310.12401471531678),\n",
       " (88, 303.2555226531951)]"
      ]
     },
     "execution_count": 159,
     "metadata": {},
     "output_type": "execute_result"
    }
   ],
   "source": [
    "zip(test_labels, grid_cv.best_estimator_.predict(test_data))"
   ]
  },
  {
   "cell_type": "code",
   "execution_count": 164,
   "metadata": {
    "collapsed": true
   },
   "outputs": [],
   "source": [
    "def mean_percentage_error(test_labels, test_predictions):\n",
    "    pairs = zip(test_labels, test_predictions)\n",
    "    error = []\n",
    "    for i in pairs:\n",
    "        error.append(100 * abs(i[0] - i[1])/i[0])\n",
    "    return error"
   ]
  },
  {
   "cell_type": "code",
   "execution_count": 165,
   "metadata": {
    "collapsed": false
   },
   "outputs": [],
   "source": [
    "errors = mean_percentage_error(test_labels, grid_cv.best_estimator_.predict(test_data))"
   ]
  },
  {
   "cell_type": "code",
   "execution_count": 167,
   "metadata": {
    "collapsed": false
   },
   "outputs": [
    {
     "data": {
      "text/plain": [
       "(array([ 939.,   46.,    8.,    2.,    3.,    0.,    0.,    1.,    0.,    1.]),\n",
       " array([  9.01926898e-03,   1.84133401e+03,   3.68265899e+03,\n",
       "          5.52398398e+03,   7.36530897e+03,   9.20663396e+03,\n",
       "          1.10479589e+04,   1.28892839e+04,   1.47306089e+04,\n",
       "          1.65719339e+04,   1.84132589e+04]),\n",
       " <a list of 10 Patch objects>)"
      ]
     },
     "execution_count": 167,
     "metadata": {},
     "output_type": "execute_result"
    },
    {
     "data": {
      "image/png": "[encoded data removed]",
      "text/plain": [
       "<matplotlib.figure.Figure at 0x119978dd0>"
      ]
     },
     "metadata": {},
     "output_type": "display_data"
    }
   ],
   "source": [
    "pylab.hist(errors)"
   ]
  },
  {
   "cell_type": "code",
   "execution_count": 168,
   "metadata": {
    "collapsed": false
   },
   "outputs": [],
   "source": [
    "test_predictions = grid_cv.best_estimator_.predict(test_data)"
   ]
  },
  {
   "cell_type": "code",
   "execution_count": 169,
   "metadata": {
    "collapsed": false
   },
   "outputs": [
    {
     "name": "stdout",
     "output_type": "stream",
     "text": [
      "[525 835 355 222 228 325 328 308 346 446]\n"
     ]
    }
   ],
   "source": [
    "print test_labels[:10]"
   ]
  },
  {
   "cell_type": "code",
   "execution_count": 170,
   "metadata": {
    "collapsed": false
   },
   "outputs": [
    {
     "name": "stdout",
     "output_type": "stream",
     "text": [
      "[ 199.6608881   218.86729741  263.52215984  292.49984067  312.31750999\n",
      "  320.79172293  325.93313273  350.03162855  356.37237377  365.80850114]\n"
     ]
    }
   ],
   "source": [
    "print test_predictions[:10]"
   ]
  },
  {
   "cell_type": "code",
   "execution_count": 171,
   "metadata": {
    "collapsed": false
   },
   "outputs": [
    {
     "data": {
      "text/plain": [
       "(-100, 1100)"
      ]
     },
     "execution_count": 171,
     "metadata": {},
     "output_type": "execute_result"
    },
    {
     "data": {
      "image/png": "[encoded data removed]",
      "text/plain": [
       "<matplotlib.figure.Figure at 0x11a3ea410>"
      ]
     },
     "metadata": {},
     "output_type": "display_data"
    }
   ],
   "source": [
    "pylab.figure(figsize=(16, 6))\n",
    "\n",
    "pylab.subplot(1,2,1)\n",
    "pylab.grid(True)\n",
    "pylab.scatter(train_labels, pipeline.predict(train_data), alpha=0.5, color = 'red')\n",
    "pylab.scatter(test_labels, pipeline.predict(test_data), alpha=0.5, color = 'blue')\n",
    "pylab.title('no parameters setting')\n",
    "pylab.xlim(-100,1100)\n",
    "pylab.ylim(-100,1100)\n",
    "\n",
    "pylab.subplot(1,2,2)\n",
    "pylab.grid(True)\n",
    "pylab.scatter(train_labels, grid_cv.best_estimator_.predict(train_data), alpha=0.5, color = 'red')\n",
    "pylab.scatter(test_labels, grid_cv.best_estimator_.predict(test_data), alpha=0.5, color = 'blue')\n",
    "pylab.title('grid search')\n",
    "pylab.xlim(-100,1100)\n",
    "pylab.ylim(-100,1100)"
   ]
  }
 ],
 "metadata": {
  "kernelspec": {
   "display_name": "Python 2",
   "language": "python",
   "name": "python2"
  },
  "language_info": {
   "codemirror_mode": {
    "name": "ipython",
    "version": 2
   },
   "file_extension": ".py",
   "mimetype": "text/x-python",
   "name": "python",
   "nbconvert_exporter": "python",
   "pygments_lexer": "ipython2",
   "version": "2.7.11"
  }
 },
 "nbformat": 4,
 "nbformat_minor": 0
}
